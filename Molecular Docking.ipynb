{
 "cells": [
  {
   "cell_type": "markdown",
   "id": "e304b240-03f4-4107-99a0-808ff44a4b17",
   "metadata": {},
   "source": [
    "# Enzyme Commission Class with Ligands\n",
    "\n",
    "# Overview\n",
    "\n",
    "**Questions**\n",
    "\n",
    "1. How are enzymes classified?\n",
    "2. How can I search the PDB for ligands that bind to a specific enzyme class?\n",
    "\n",
    "**Learning Objectives**\n",
    "\n",
    "1. Understand the hierarchical classification of enzymes using the Enzyme Commission (EC) system.\n",
    "2. Use the RCSB Search API to find ligands that bind to a specific enzyme class."
   ]
  },
  {
   "cell_type": "markdown",
   "id": "05f32523-39ee-4d21-8002-2d8a25fe0ca5",
   "metadata": {},
   "source": [
    "Enzymes ar Enzymes are biological catalysts and most enzymes are proteins (at least that's our current thinking). To systematize the study of enzymes, IUPAC (the International Union of Pure and Applied Chemistry) has organized enzymes in a hierarchical class structure, with 7 top level classes and a total of 4 levels in the hierarchy.\n",
    "\n",
    "These classes are called the Enzyme Commission (EC) classes, and the hierarchy is called the EC system. Each enzyme is assigned an EC number based on the type of reaction it catalyzes. In this notebook, we will use the RCSB Search API to find ligands that bind to a specific enzyme class."
   ]
  },
  {
   "cell_type": "markdown",
   "id": "cfbbf416-59ce-4284-9fbf-24185e90c4dd",
   "metadata": {},
   "source": [
    "# The 7 Enzyme Classes\n",
    "\n",
    "The BRENDA Enzyme Database contains detailed information about enzymes and includes a browser tree for enzyme classes. The 7 major classes of enzymes on the top level of the tree are\n",
    "\n",
    "1. Oxidoreductases\n",
    "2. Transferases\n",
    "3. Hydrolases\n",
    "4. Lyases\n",
    "5. Isomerases\n",
    "6. Ligases\n",
    "7. Translocases\n",
    "\n",
    "On the BRENDA Home Page, you can search for an enzyme by name and find its Enzyme Commision (EC) number, and a lot more detail as well. The first image below is the search for the enzyme HMG CoA Reductase, the control point for cholesterol synthesis. The second image shows the initial results page, which includes the EC number."
   ]
  },
  {
   "cell_type": "markdown",
   "id": "4f9540d8-96a6-4059-9384-e385303c80c0",
   "metadata": {},
   "source": [
    "In this notebook, we will focus on trypsin, an enzyme produced by your pancreas that helps to digest proteins in your small intestine. It is a member of family called serine hydrolases. Members of this family use water to break bonds in proteins, lipids and carbohydrates. They are involved in digestion, cell signalling and blood clotting. The EC# for trypsin is 3.4.21.4. Here is the meaning of each level of the hierarchy:\n",
    "\n",
    "3 - Hydrolase\n",
    "3.4 - acting on peptide bonds\n",
    "3.4.21 - serine endopeptidase\n",
    "3.4.21.4 - trypsin\n",
    "\n",
    "This notebook is intended to help users find ligands for use with docking studies. We are looking for ligands that will bind to trypsin, with the intention of seeing if they will bind to other serine hydrolases that might be interesting. Here are the steps we will follow in the process, all of which will employ the rcsbsearchapi package.\n",
    "\n",
    "1. Find PDB structures of a given Enzyme Commission class.\n",
    "2. Select those structures that contain bound small molecules with molecular weights between 300 and 600.\n",
    "3. Output a list of those ligands\n",
    "4. Save the ligand structures to the \"ligands_for_EC_class_#\" folder."
   ]
  },
  {
   "cell_type": "code",
   "execution_count": 2,
   "id": "b96ff38d-cbfa-4406-93de-36f4248c9d87",
   "metadata": {},
   "outputs": [],
   "source": [
    "# Import the components of rcsbsearchapi needed for this search\n",
    "from rcsbapi.search import AttributeQuery as attrs"
   ]
  },
  {
   "cell_type": "markdown",
   "id": "e8fc0068-a0c6-41b4-9345-62dc4dc86142",
   "metadata": {},
   "source": [
    "1. A ligand is any molecule that binds to a protein (including enzymes) to influence its function, while an enzyme is a protein that catalyzes chemical reactions, often by binding to ligands such as substrates.\n",
    "\n",
    "2. The ligand’s main role is binding, whereas the enzyme’s main role is catalysis.\n",
    "\n",
    "3. Enzymes are significantly bigger than ligands, both in terms of physical size and molecular weight\n",
    "\n",
    "4. Ligands are much smaller molecules that bind to enzymes (or other proteins). Ligands can be small organic molecules, ions, or even small peptides, but they are almost always much smaller than the enzyme itself. For example, glucose (a common ligand for enzymes) has a molecular weight of about 180 Da, which is orders of magnitude smaller than a typical enzyme."
   ]
  },
  {
   "cell_type": "markdown",
   "id": "5370b11f-a344-43b8-a7dc-3e78ec7b81a2",
   "metadata": {},
   "source": [
    "# Making queries\n",
    "\n",
    "To make a query with rcsbsearchapi you first must know what you are looking for. I find it helpful to actually write this out by hand sometimes. Here are the characteristics I am looking for in ligands that bind to a specific Enzyme Commission Class of a protein.\n",
    "\n",
    "1. EC Class. I will focus on the EC class for trypsin, 3.4.21.4, but any class should work.\n",
    "2. Ligands. I am looking for ligands that are larger than a single atom (e.g., potassium ion) or a buffer molecule (phosphate), but of a size that consists of 10-30 heavy atoms, so I will aim for a molecular weight between 300 and 800.\n",
    "\n",
    "Please note that you can use this interface to search for dozens of attributes associated with a PDB entry. The attribute that we will use to look for proteins that have the EC# = 3.4.21.4 is rcsb_polymer_entity.rcsb_ec_lineage.id. Other searchable attributes include the abbreviated journal title for the primary citation, rcsb_primary_citation.rcsb_journal_abbrev, the method used to determine the structure exptl.method, or specific molecules that are part of PDB entries pdbx_reference_molecule.class."
   ]
  },
  {
   "cell_type": "markdown",
   "id": "266a7b10-a4d7-4694-8fdc-ade4164f1a6d",
   "metadata": {},
   "source": [
    "A chemical component in a PDB (Protein Data Bank) structure refers to any distinct chemical entity present in the structure, including:\n",
    "\n",
    "- Standard and modified amino acids (building blocks of proteins)\n",
    "- Standard and modified nucleotides (building blocks of DNA/RNA)\n",
    "- Small molecule ligands (such as drugs, cofactors, or inhibitors)\n",
    "- Metal ions and solvent molecules (like water)\n",
    "\n",
    "Each chemical component is assigned a unique three-character alphanumeric code (e.g., “GLC” for glucose, “HEM” for heme, “TYL” for Tylenol)"
   ]
  },
  {
   "cell_type": "code",
   "execution_count": 5,
   "id": "b9d3966d-f637-4992-b98a-d145b134a779",
   "metadata": {},
   "outputs": [
    {
     "name": "stdout",
     "output_type": "stream",
     "text": [
      "['1AQ7', '1AUJ', '1AZ8', '1BJV', '1BTW', '1BTX', '1BTZ', '1C1S', '1C1T', '1C2D']\n",
      "There are 187 trypsin structures that contain ligands in the RCSB PDB.\n"
     ]
    }
   ],
   "source": [
    "# There will be three components to the query, which will be labeled q1, q2 and q3.\n",
    "\n",
    "ECnumber = \"3.4.21.4\"\n",
    "\n",
    "q1 = attrs(\"rcsb_polymer_entity.rcsb_ec_lineage.id\", \"exact_match\", ECnumber)       # looking for trypsin structures with EC = 3.4.21.4\n",
    "q2 = attrs(\"chem_comp.formula_weight\", \"greater_or_equal\", 300)                     # setting the lower limit for molecular weight\n",
    "q3 = attrs(\"chem_comp.formula_weight\", \"less_or_equal\", 800)                        # setting the lower limit for molecular weight\n",
    "\n",
    "query = q1 & q2 & q3                     # query (after combining with &) is a query object-it represents the search but does not execute it.\n",
    "\n",
    "resultL = list(query())                  # Executes the combined query and returns an iterator of results\n",
    "\n",
    "print(resultL[0:10])\n",
    "print(f\"There are {len(resultL)} trypsin structures that contain ligands in the RCSB PDB.\")"
   ]
  },
  {
   "cell_type": "markdown",
   "id": "b6343c56-1c2d-4a1b-99c2-4d52f66fc7a6",
   "metadata": {},
   "source": [
    "# Finding the ligands\n",
    "\n",
    "This query provided the list of the PDB entries for trypsins (EC # 3.4.21.4) that contain ligands between 300 and 800 molecular weight. We printed the first 10 of these results using print(resultL[0:10]).\n",
    "\n",
    "Why would we choose to have ligands with molecular weights between 300 and 800? We are interested in molecules that are large enough to bind to and fill up the active site of trypsin. Small molecules with molecular weights less than 300 are likely to be individual ions (K+ or Na+). Molecules with molecular weights greater than 800 will fill more than the active site of an enzyme.\n",
    "\n",
    "Here is an image of one of the ligands from the search that we're going to learn to download. It is identified in the Protein Data Bank as 13U. As a group we will look at some of the features that make this ligand interesting."
   ]
  },
  {
   "cell_type": "markdown",
   "id": "b3513d2c-8887-4773-a68e-dd7fe8240f58",
   "metadata": {},
   "source": [
    "The last statement in the previous cell\n",
    "\n",
    "print(\"There are\", len(resultL), \"trypsin structures that contain ligands in the RCSB PDB.\")\n",
    "\n",
    "tells us how many PDB entries have ligands of that size. The default return item for the query is structure, which provides the four character alphanumeric entry for the full structure in the PDB. We want to identify and download the ligands that are bound to these PDB structures, so we need to switch return types.\n",
    "\n",
    "To get the ligand, instead of returning the structure (Enzyme + ligand), we will request a return type of mol_definition which will then return the three character alphanumeric entry for the ligand. Other possible return types are polymer entities, assemblies, and non-polymer entities."
   ]
  },
  {
   "cell_type": "code",
   "execution_count": 6,
   "id": "36bae43a-6de5-4be3-bcc2-ded1ec2536d7",
   "metadata": {},
   "outputs": [
    {
     "name": "stdout",
     "output_type": "stream",
     "text": [
      "There are 119 ligands for EC number 3.4.21.4 in the list.\n",
      "['0CA', '0CB', '0G6', '0IV', '0KV', '0ZG', '0ZW', '0ZX', '0ZY', '10U']\n"
     ]
    }
   ],
   "source": [
    "molResultL = list(query(\"mol_definition\"))\n",
    "print(f\"There are {len(molResultL)} ligands for EC number {ECnumber} in the list.\")\n",
    "print(molResultL[0:10])"
   ]
  },
  {
   "cell_type": "markdown",
   "id": "d0c81cfa-f395-4099-9289-5bd48e747bf4",
   "metadata": {},
   "source": [
    "**Where can we go to download the ligand files?**\n",
    "\n",
    "To download the files for ligands bound to trypsin in the RCSB PDB, execute the two cells above for finding the trypsin ligands. This will reset the results to the ones we want.\n",
    "\n",
    "Once this is done, the next step is to determine exactly what we want to download. These ligand files in the PDB are avaiable for download in several formats. A full list and description can be found in the Small Molecule File table on the RCSB PDB File Download Services page, which is pasted in here."
   ]
  },
  {
   "cell_type": "markdown",
   "id": "01c3de98-f1c4-468e-902b-ef3a7a7e95ee",
   "metadata": {},
   "source": [
    "From this table, we want the ideal coordinate ligand files in mol2 format, which we will later convert to another format called pdbqt for docking.\n",
    "\n",
    "# How do we download the ligand files?\n",
    "\n",
    "There are several options for downloading files - we will use a Python libary called requests. In the following cells, we will import the library, requests, download a single file from the RCSB PDB using the requests.get function, and check to make sure the file downloaded properly to the ligands folder. If that is successful, we'll use a for loop to download all of the files from our molResultL list to the ligands folder."
   ]
  },
  {
   "cell_type": "code",
   "execution_count": 7,
   "id": "55e246b3-b79d-4e9f-851e-6d00bc9cf99d",
   "metadata": {},
   "outputs": [],
   "source": [
    "import requests\n",
    "import os"
   ]
  },
  {
   "cell_type": "code",
   "execution_count": 8,
   "id": "e5fae247-f894-4366-8aa7-a24f0a1caa5d",
   "metadata": {},
   "outputs": [],
   "source": [
    "# Download one of the files from our list: 11U.mol2\n",
    "\n",
    "res11U_mol2 = requests.get('https://files.rcsb.org/ligands/download/11U_ideal.sdf')"
   ]
  },
  {
   "cell_type": "code",
   "execution_count": 10,
   "id": "5e1394d6-5f42-4d95-af97-2dccb5d8ee5f",
   "metadata": {},
   "outputs": [
    {
     "data": {
      "text/plain": [
       "200"
      ]
     },
     "execution_count": 10,
     "metadata": {},
     "output_type": "execute_result"
    }
   ],
   "source": [
    "# check to see that the file downloaded properly. A status code of 200 means everything is okay.\n",
    "\n",
    "res11U_mol2.status_code"
   ]
  },
  {
   "cell_type": "code",
   "execution_count": 11,
   "id": "6b965c4b-a268-4bfc-9d67-1b61b64ece67",
   "metadata": {},
   "outputs": [],
   "source": [
    "# Make a ligands folder for our clients. \n",
    "os.makedirs(\"ligands\", exist_ok=True)\n",
    "\n",
    "with open(\"ligands/res11U_mol2\", 'w+') as file:\n",
    "    file.write(res11U_mol2.text)"
   ]
  },
  {
   "cell_type": "code",
   "execution_count": 12,
   "id": "c138b359-550f-4b64-b33a-4b8bdafa37e9",
   "metadata": {},
   "outputs": [
    {
     "name": "stdout",
     "output_type": "stream",
     "text": [
      "11U\n",
      "  CCTOOLS-0919241032\n",
      "\n",
      " 59 61  0  0  1  0  0  0  0  0999 V2000\n",
      "    2.4220    0.4070    0.3360 C   0  0  0  0  0\n",
      "    2.0060   -0.6420    0.7800 O   0  0  0  0  0\n",
      "    3.8690    0.5350   -0.0630 C   0  0  0  0  0\n",
      "    4.5590   -0.7380    0.1810 N   0  0  0  0  0\n",
      "    5.9760   -0.6510   -0.1970 C   0  0  0  0  0\n",
      "    6.7790   -0.0680    0.9670 C   0  0  0  0  0\n",
      "    8.2550    0.0240    0.5730 C   0  0  0  0  0\n",
      "    8.7810   -1.3740    0.2400 C   0  0  0  0  0\n",
      "    7.9780   -1.9570   -0.9250 C   0  0  0  0  0\n",
      "    6.5020   -2.0480   -0.5310 C   0  0  0  0  0\n",
      "    1.5890    1.4580    0.1990 N   0  0  0  0  0\n",
      "    0.1600    1.4690    0.5420 C   0  0  0  0  0\n",
      "   -0.5770    0.4580   -0.2980 C   0  0  0  0  0\n",
      "    0.0270   -0.2120   -1.1080 O   0  0  0  0  0\n",
      "   -0.3710    2.8880    0.2460 C   0  0  0  0  0\n",
      "    0.9140    3.7560    0.2780 C   0  0  0  0  0\n",
      "    1.9600    2.7850   -0.3250 C   0  0  0  0  0\n",
      "   -1.9070    0.2990   -0.1490 N   0  0  0  0  0\n",
      "   -2.6230   -0.6850   -0.9660 C   0  0  0  0  0\n",
      "   -4.0860   -0.6660   -0.6070 C   0  0  0  0  0\n",
      "   -4.5620   -1.4980    0.3910 C   0  0  0  0  0\n",
      "   -5.9000   -1.4810    0.7270 C   0  0  0  0  0\n",
      "   -6.7750   -0.6300    0.0520 C   0  0  0  0  0\n",
      "   -8.2130   -0.6110    0.4050 C   0  0  0  0  0\n",
      "   -9.0280    0.1840   -0.2270 N   0  0  0  0  0\n",
      "   -8.6890   -1.4350    1.4020 N   0  0  0  0  0\n",
      "   -6.2910    0.2030   -0.9560 C   0  0  0  0  0\n",
      "   -4.9490    0.1800   -1.2800 C   0  0  0  0  0\n",
      "    3.9330    0.7860   -1.1220 H   0  0  0  0  0\n",
      "    4.3400    1.3220    0.5260 H   0  0  0  0  0\n",
      "    4.4590   -1.0250    1.1430 H   0  0  0  0  0\n",
      "    6.0800   -0.0050   -1.0690 H   0  0  0  0  0\n",
      "    6.4040    0.9280    1.2050 H   0  0  0  0  0\n",
      "    6.6750   -0.7130    1.8390 H   0  0  0  0  0\n",
      "    8.8270    0.4390    1.4030 H   0  0  0  0  0\n",
      "    8.3590    0.6690   -0.2990 H   0  0  0  0  0\n",
      "    8.6770   -2.0190    1.1120 H   0  0  0  0  0\n",
      "    9.8320   -1.3090   -0.0410 H   0  0  0  0  0\n",
      "    8.3530   -2.9520   -1.1620 H   0  0  0  0  0\n",
      "    8.0820   -1.3110   -1.7970 H   0  0  0  0  0\n",
      "    6.3980   -2.6930    0.3420 H   0  0  0  0  0\n",
      "    5.9300   -2.4630   -1.3600 H   0  0  0  0  0\n",
      "    0.0300    1.2400    1.6000 H   0  0  0  0  0\n",
      "   -1.0720    3.2080    1.0170 H   0  0  0  0  0\n",
      "   -0.8360    2.9240   -0.7390 H   0  0  0  0  0\n",
      "    1.1770    4.0280    1.3010 H   0  0  0  0  0\n",
      "    0.8020    4.6440   -0.3440 H   0  0  0  0  0\n",
      "    2.9630    3.0560    0.0040 H   0  0  0  0  0\n",
      "    1.9020    2.7930   -1.4130 H   0  0  0  0  0\n",
      "   -2.3900    0.8350    0.4990 H   0  0  0  0  0\n",
      "   -2.5040   -0.4370   -2.0200 H   0  0  0  0  0\n",
      "   -2.2160   -1.6780   -0.7780 H   0  0  0  0  0\n",
      "   -3.8840   -2.1590    0.9100 H   0  0  0  0  0\n",
      "   -6.2690   -2.1270    1.5090 H   0  0  0  0  0\n",
      "   -9.9700    0.1960    0.0040 H   0  0  0  0  0\n",
      "   -8.0820   -2.0270    1.8720 H   0  0  0  0  0\n",
      "   -9.6310   -1.4220    1.6330 H   0  0  0  0  0\n",
      "   -6.9630    0.8640   -1.4820 H   0  0  0  0  0\n",
      "   -4.5730    0.8240   -2.0610 H   0  0  0  0  0\n",
      "  1  2  2  0  0  0\n",
      "  1  3  1  0  0  0\n",
      "  3  4  1  0  0  0\n",
      "  3 29  1  0  0  0\n",
      "  3 30  1  0  0  0\n",
      "  4  5  1  0  0  0\n",
      "  4 31  1  0  0  0\n",
      "  5 10  1  0  0  0\n",
      "  5  6  1  0  0  0\n",
      "  5 32  1  0  0  0\n",
      "  6 33  1  0  0  0\n",
      "  6 34  1  0  0  0\n",
      "  7  6  1  0  0  0\n",
      "  7 35  1  0  0  0\n",
      "  7 36  1  0  0  0\n",
      "  8  7  1  0  0  0\n",
      "  8 37  1  0  0  0\n",
      "  8 38  1  0  0  0\n",
      "  9  8  1  0  0  0\n",
      "  9 39  1  0  0  0\n",
      "  9 40  1  0  0  0\n",
      " 10  9  1  0  0  0\n",
      " 10 41  1  0  0  0\n",
      " 10 42  1  0  0  0\n",
      " 11  1  1  0  0  0\n",
      " 11 17  1  0  0  0\n",
      " 11 12  1  0  0  0\n",
      " 12 13  1  0  0  0\n",
      " 12 43  1  0  0  0\n",
      " 13 18  1  0  0  0\n",
      " 13 14  2  0  0  0\n",
      " 15 12  1  0  0  0\n",
      " 15 44  1  0  0  0\n",
      " 15 45  1  0  0  0\n",
      " 16 15  1  0  0  0\n",
      " 16 46  1  0  0  0\n",
      " 16 47  1  0  0  0\n",
      " 17 16  1  0  0  0\n",
      " 17 48  1  0  0  0\n",
      " 17 49  1  0  0  0\n",
      " 18 19  1  0  0  0\n",
      " 18 50  1  0  0  0\n",
      " 19 20  1  0  0  0\n",
      " 19 51  1  0  0  0\n",
      " 19 52  1  0  0  0\n",
      " 20 28  2  0  0  0\n",
      " 20 21  1  0  0  0\n",
      " 21 53  1  0  0  0\n",
      " 22 21  2  0  0  0\n",
      " 22 54  1  0  0  0\n",
      " 23 24  1  0  0  0\n",
      " 23 22  1  0  0  0\n",
      " 24 25  2  0  0  0\n",
      " 24 26  1  0  0  0\n",
      " 25 55  1  0  0  0\n",
      " 26 56  1  0  0  0\n",
      " 26 57  1  0  0  0\n",
      " 27 23  2  0  0  0\n",
      " 27 58  1  0  0  0\n",
      " 28 27  1  0  0  0\n",
      " 28 59  1  0  0  0\n",
      "M  END\n",
      "$$$$\n",
      "\n"
     ]
    }
   ],
   "source": [
    "file1 = open(\"ligands/res11U_mol2\", 'r')\n",
    "file_text = file1.read()\n",
    "print(file_text)"
   ]
  },
  {
   "cell_type": "markdown",
   "id": "2ca55e30-68d9-4294-be5d-511d272188f1",
   "metadata": {},
   "source": [
    "# Downloading all of the ligands using a for loop\n",
    "\n",
    "Now that we know that our process functions, we will use a for loop to download the entire list of ligands (all 112) in a single cell. Here are the steps we will take:\n",
    "\n",
    "1. Define a variable, baseUrl, for the URL where the ligand files are located. The URL only lacks the specific name of the ligand file.\n",
    "2. Set up a for loop to go through each of the items (as ChemID) in the molResultL list that was generated above.\n",
    "3. Assign the filename based on a variable (the 3-letter name of the ligand as ChemID followed by _ideal.mol2) to the variable cFile.\n",
    "4. Assign the full URL (as cFileUrl) that we want to use to download the data from the RCSB PDB API. Notice that the URL will consist of the baseUrl (defined in the first line of the cell) followed by the name of the file we just defined, which is now assigned to the variable, cFile.\n",
    "5. Tell the notebook that we want the file (CFileLocal) to be written to the ligands folder, using the os.path command.\n",
    "6. Use the API call via requests.get to download the data from the RCSB PDB.\n",
    "7. Write the file using the with open function.\n",
    "\n",
    "If all goes according to plan, this should download all of the ligands on our list to the ligands folder."
   ]
  },
  {
   "cell_type": "code",
   "execution_count": 13,
   "id": "8ebf0b45-30cf-434f-8ff1-df3564b62eb5",
   "metadata": {},
   "outputs": [],
   "source": [
    "baseUrl = \"https://files.rcsb.org/ligands/download/\"\n",
    "\n",
    "for ChemID in molResultL:\n",
    "    cFile = f\"{ChemID}_ideal.sdf\"\n",
    "    cFileUrl = baseUrl + cFile\n",
    "    cFileLocal = \"ligands/\" + cFile\n",
    "    response = requests.get(cFileUrl)\n",
    "    with open(cFileLocal, \"w+\") as file:\n",
    "        file.write(response.text)"
   ]
  },
  {
   "cell_type": "code",
   "execution_count": null,
   "id": "7ea7cd3e-2537-4e27-86f7-20c899c47be3",
   "metadata": {},
   "outputs": [],
   "source": []
  }
 ],
 "metadata": {
  "kernelspec": {
   "display_name": "Python 3 (ipykernel)",
   "language": "python",
   "name": "python3"
  },
  "language_info": {
   "codemirror_mode": {
    "name": "ipython",
    "version": 3
   },
   "file_extension": ".py",
   "mimetype": "text/x-python",
   "name": "python",
   "nbconvert_exporter": "python",
   "pygments_lexer": "ipython3",
   "version": "3.11.8"
  }
 },
 "nbformat": 4,
 "nbformat_minor": 5
}
