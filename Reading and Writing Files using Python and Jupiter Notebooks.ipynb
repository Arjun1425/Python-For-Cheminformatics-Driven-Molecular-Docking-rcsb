{
 "cells": [
  {
   "cell_type": "code",
   "execution_count": 4,
   "id": "09c53f17-7bee-4eea-86ba-2a596a00f972",
   "metadata": {},
   "outputs": [],
   "source": [
    "import os"
   ]
  },
  {
   "cell_type": "code",
   "execution_count": 5,
   "id": "ff48ddba-2274-4408-878d-cb15497f3e32",
   "metadata": {},
   "outputs": [
    {
     "data": {
      "text/plain": [
       "'/Users/fnuarjun/Downloads/Cheminformatics'"
      ]
     },
     "execution_count": 5,
     "metadata": {},
     "output_type": "execute_result"
    }
   ],
   "source": [
    "os.getcwd()"
   ]
  },
  {
   "cell_type": "code",
   "execution_count": 6,
   "id": "5978fe62-6ed0-42ac-802b-695e31bfafcf",
   "metadata": {},
   "outputs": [
    {
     "name": "stdout",
     "output_type": "stream",
     "text": [
      "<class 'str'>\n"
     ]
    }
   ],
   "source": [
    "print(type(os.getcwd()))"
   ]
  },
  {
   "cell_type": "code",
   "execution_count": 7,
   "id": "ed3bf778-4c4f-40f2-9e30-af5712a273fc",
   "metadata": {},
   "outputs": [
    {
     "data": {
      "text/plain": [
       "['.DS_Store',\n",
       " 'pdb_files',\n",
       " 'Reading and Writing Files using Python and Jupiter Notebooks.ipynb',\n",
       " '.ipynb_checkpoints']"
      ]
     },
     "execution_count": 7,
     "metadata": {},
     "output_type": "execute_result"
    }
   ],
   "source": [
    "os.listdir()"
   ]
  },
  {
   "cell_type": "code",
   "execution_count": 12,
   "id": "333125a2-b851-49df-8dc5-bcdc560ed6e0",
   "metadata": {
    "scrolled": true
   },
   "outputs": [
    {
     "name": "stdout",
     "output_type": "stream",
     "text": [
      "/Users/fnuarjun/Downloads/Cheminformatics/pdb_files/5en1.pdb\n"
     ]
    }
   ],
   "source": [
    "pdb_file_path = os.path.join(os.getcwd(), 'pdb_files/5en1.pdb')\n",
    "print(pdb_file_path)"
   ]
  },
  {
   "cell_type": "code",
   "execution_count": 13,
   "id": "b24e64e2-f41b-46f1-899b-42c2813aa3e6",
   "metadata": {},
   "outputs": [],
   "source": [
    "with open(pdb_file_path) as f: \n",
    "    data = f.readlines()"
   ]
  },
  {
   "cell_type": "code",
   "execution_count": 14,
   "id": "c523da40-2a2f-49b0-a675-305d151349e0",
   "metadata": {},
   "outputs": [
    {
     "name": "stdout",
     "output_type": "stream",
     "text": [
      "COMPND    MOL_ID: 1;                                                            \n",
      "\n"
     ]
    }
   ],
   "source": [
    "print(data[2])"
   ]
  },
  {
   "cell_type": "code",
   "execution_count": 15,
   "id": "cfb7fcb9-cb81-4915-803c-aee8bc0f1f2d",
   "metadata": {},
   "outputs": [
    {
     "name": "stdout",
     "output_type": "stream",
     "text": [
      "1991\n",
      "['HEADER    RNA BINDING PROTEIN/RNA                 09-NOV-15   5EN1              \\n', 'TITLE     CRYSTAL STRUCTURE OF HNRNPA2B1 IN COMPLEX WITH RNA                    \\n', 'COMPND    MOL_ID: 1;                                                            \\n', 'COMPND   2 MOLECULE: HETEROGENEOUS NUCLEAR RIBONUCLEOPROTEINS A2/B1;            \\n', 'COMPND   3 CHAIN: A;                                                            \\n']\n"
     ]
    }
   ],
   "source": [
    "print(len(data))\n",
    "print(data[:5])"
   ]
  },
  {
   "cell_type": "code",
   "execution_count": 16,
   "id": "feb0edd4-6c72-40e8-96ca-5c0c4c76f9c3",
   "metadata": {},
   "outputs": [
    {
     "name": "stdout",
     "output_type": "stream",
     "text": [
      "HETATM 1644  O   HOH A 201     136.047 -23.452  13.590  1.00 23.99           O  \n",
      "\n",
      "['HETATM', '1644', 'O', 'HOH', 'A', '201', '136.047', '-23.452', '13.590', '1.00', '23.99', 'O']\n"
     ]
    }
   ],
   "source": [
    "for ele in data: \n",
    "    if 'HETATM' in ele and '201' in ele:\n",
    "        print(ele)\n",
    "        hetatm = ele\n",
    "        hetatm = hetatm.split()\n",
    "        print(hetatm)"
   ]
  },
  {
   "cell_type": "markdown",
   "id": "e365aa86-4ed7-47d4-921b-1db5dd9f3688",
   "metadata": {},
   "source": [
    "Handling multiple files. "
   ]
  },
  {
   "cell_type": "code",
   "execution_count": 40,
   "id": "d7651b63-0ebc-4006-825b-c32b6001c665",
   "metadata": {},
   "outputs": [
    {
     "name": "stdout",
     "output_type": "stream",
     "text": [
      "/Users/fnuarjun/Downloads/Cheminformatics/pdb_files/*.pdb\n",
      "['/Users/fnuarjun/Downloads/Cheminformatics/pdb_files/5en1.pdb', '/Users/fnuarjun/Downloads/Cheminformatics/pdb_files/1ddo.pdb', '/Users/fnuarjun/Downloads/Cheminformatics/pdb_files/3iva.pdb', '/Users/fnuarjun/Downloads/Cheminformatics/pdb_files/3fgu.pdb', '/Users/fnuarjun/Downloads/Cheminformatics/pdb_files/2pkr.pdb', '/Users/fnuarjun/Downloads/Cheminformatics/pdb_files/3vnd.pdb']\n"
     ]
    }
   ],
   "source": [
    "import glob\n",
    "file_location = os.path.join(os.getcwd(), \"pdb_files/*.pdb\")\n",
    "print(file_location)\n",
    "file_names = glob.glob(file_location)\n",
    "print(file_names)"
   ]
  },
  {
   "cell_type": "code",
   "execution_count": 48,
   "id": "0f9edd89-75e0-4bea-bec2-406405fad32a",
   "metadata": {},
   "outputs": [
    {
     "name": "stdout",
     "output_type": "stream",
     "text": [
      "/Users/fnuarjun/Downloads/Cheminformatics/pdb_files/5en1.pdb REMARK   2 RESOLUTION.    2.58 ANGSTROMS.                                       \n",
      "\n",
      "/Users/fnuarjun/Downloads/Cheminformatics/pdb_files/1ddo.pdb REMARK   2 RESOLUTION.    3.10 ANGSTROMS.                                       \n",
      "\n",
      "/Users/fnuarjun/Downloads/Cheminformatics/pdb_files/3iva.pdb REMARK   2 RESOLUTION.    2.70 ANGSTROMS.                                       \n",
      "\n",
      "/Users/fnuarjun/Downloads/Cheminformatics/pdb_files/3fgu.pdb REMARK   2 RESOLUTION.    2.15 ANGSTROMS.                                       \n",
      "\n",
      "/Users/fnuarjun/Downloads/Cheminformatics/pdb_files/2pkr.pdb REMARK   2 RESOLUTION.    2.40 ANGSTROMS.                                       \n",
      "\n",
      "/Users/fnuarjun/Downloads/Cheminformatics/pdb_files/3vnd.pdb REMARK   2 RESOLUTION.    2.60 ANGSTROMS.                                       \n",
      "\n"
     ]
    }
   ],
   "source": [
    "for f in file_names: \n",
    "    with open(f, 'r') as outline:\n",
    "        data = outline.readlines()\n",
    "\n",
    "    for line in data: \n",
    "        if \"RESOLUTION.\" in line:\n",
    "            print(f, line)"
   ]
  },
  {
   "cell_type": "code",
   "execution_count": 68,
   "id": "5de8d320-cfb0-49a2-a162-fae1edd42668",
   "metadata": {},
   "outputs": [
    {
     "name": "stdout",
     "output_type": "stream",
     "text": [
      "/Users/fnuarjun/Downloads/Cheminformatics\n",
      "['5en1.pdb', '1ddo.pdb', '3iva.pdb', '3fgu.pdb', '3fgu.cif', '2pkr.pdb', '3vnd.pdb']\n"
     ]
    }
   ],
   "source": [
    "cwd = os.getcwd()\n",
    "print(cwd)\n",
    "pdb_file_name = os.listdir(os.path.join(os.getcwd(), 'pdb_files'))\n",
    "print(pdb_file_name)"
   ]
  },
  {
   "cell_type": "code",
   "execution_count": 69,
   "id": "f76f5460-c54e-4520-883f-94e7256b516e",
   "metadata": {},
   "outputs": [
    {
     "name": "stdout",
     "output_type": "stream",
     "text": [
      "['5en1', '1ddo', '3iva', '3fgu', '3fgu', '2pkr', '3vnd']\n"
     ]
    }
   ],
   "source": [
    "pdb_file_name = [ele.split('.')[0] for ele in pdb_file_name]\n",
    "print(pdb_file_name)"
   ]
  }
 ],
 "metadata": {
  "kernelspec": {
   "display_name": "Python 3 (ipykernel)",
   "language": "python",
   "name": "python3"
  },
  "language_info": {
   "codemirror_mode": {
    "name": "ipython",
    "version": 3
   },
   "file_extension": ".py",
   "mimetype": "text/x-python",
   "name": "python",
   "nbconvert_exporter": "python",
   "pygments_lexer": "ipython3",
   "version": "3.11.8"
  }
 },
 "nbformat": 4,
 "nbformat_minor": 5
}
