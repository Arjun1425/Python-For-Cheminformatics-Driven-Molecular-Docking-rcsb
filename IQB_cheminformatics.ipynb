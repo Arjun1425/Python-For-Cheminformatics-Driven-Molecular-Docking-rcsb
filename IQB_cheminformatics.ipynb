{
 "cells": [
  {
   "cell_type": "markdown",
   "id": "c95cd6b9-b065-4fc0-a6f2-179edd6fb4a6",
   "metadata": {},
   "source": [
    "In this notebook, we will learn how to represent chemical structures as SMILES, how to use SMILES to create RDKit mol objects, and how to explore and visualize chemical data using pandas dataframes."
   ]
  },
  {
   "cell_type": "markdown",
   "id": "21d0fbc9-82f3-475b-bee2-c14f50fe5a5b",
   "metadata": {},
   "source": [
    "There are three well-known string conversions for small molecules, SMILES, InChI, and InChI Key. Here are the SMILES, InChI, and InChI Key strings for aspirin.\n",
    "\n",
    "SMILES: CC(=O)OC1=CC=CC=C1C(=O)O\n",
    "\n",
    "InChI: 1S/C9H8O4/c1-6(10)13-8-5-3-2-4-7(8)9(11)12/h2-5H,1H3,(H,11,12)\n",
    "\n",
    "InChI Key: BSYNRYMUTXBXSQ-UHFFFAOYSA-N\n",
    "\n",
    "In this workshop we will use SMILES strings. SMILES syntax is explained below."
   ]
  },
  {
   "cell_type": "markdown",
   "id": "778daa54-d41e-4bd3-8ac5-ddc4f7c209b0",
   "metadata": {},
   "source": [
    "There are Python libraries that are made for working just with chemical data. One commonly used library in Python for data science (or cheminformatics) is called RDKit. RDKit is an open-source cheminformatics library, primarily developed in C++ and has been under development since the year 2000. We will be using the Python interface to RDKit, though there are interfaces in other languages.\n",
    "\n",
    "RDKit provides a molecule object that allows you to manipulate chemical structures. It has capabilities for reading and writing molecular file formats, calculating molecular properties, and performing substructure searches. In addition, it offers a wide range of cheminformatics algorithms such as molecular fingerprint generation, similarity metrics calculation, and molecular descriptor computation."
   ]
  },
  {
   "cell_type": "markdown",
   "id": "6ad47309-26a6-4aa6-b14f-dff024f5f1fb",
   "metadata": {},
   "source": [
    "Most of this functionality is achieved through the RDKit `mol` object. In Python, we use the word \"object\" to refer to a variable type with associated data and methods. One example of an object we have seen in notebooks is a list - we could also call it a \"list object\". An object has `attributes` (data) and `methods`. You access information about objects with the syntax\n",
    "\n",
    "\n",
    "object.data\n",
    "\n",
    "where data is the attribute name. You access object methods with the syntax\n",
    "\n",
    "object.method(arguments)\n",
    "\n",
    "For example, for a list \"`append` is a method that was covered in the introductory lesson.\n",
    "\n",
    "my_list = []\n",
    "my_list.append(1) # \"append\" is a method"
   ]
  },
  {
   "cell_type": "code",
   "execution_count": 2,
   "id": "c8febe99-0820-47fb-835f-330707e95de0",
   "metadata": {},
   "outputs": [],
   "source": [
    "from rdkit import Chem"
   ]
  },
  {
   "cell_type": "markdown",
   "id": "c65be4b9-146d-49c1-a0f4-412985d7b758",
   "metadata": {},
   "source": [
    "## Creating Molecules with RDKit\n",
    "\n",
    "Throughout this tutorial, it will be helpful to have access to the RDKit documentation.\n",
    "\n",
    "To get information about molecules in RDKit, we have to first create objects representing molecules. RDKit has a molecule object that can be used to retrieve information or calculate properties. To create a molecule object, we have to communicate the molecule identity in a way that computers understand.\n",
    "\n",
    "We will use SMILES strings to create our objects, though RDKit also has methods for creating molecules from the file formats listed in the previous notebook.\n",
    "\n",
    "Creating molecules using SMILES\n",
    "In the last lesson, we learned about molecular representations using SMILES strings. Now we will use SMILES strings to create molecule objects in RDKIT.\n",
    "\n",
    "We can create a representation of methane using RDKit by using the MolFromSmiles function in rdkit.Chem."
   ]
  },
  {
   "cell_type": "code",
   "execution_count": 3,
   "id": "db2e10db-b45a-498f-ae9b-bb458ed6d865",
   "metadata": {},
   "outputs": [
    {
     "data": {
      "image/png": "[encoded data removed]",
      "text/plain": [
       "<rdkit.Chem.rdchem.Mol at 0x11a288dd0>"
      ]
     },
     "execution_count": 3,
     "metadata": {},
     "output_type": "execute_result"
    }
   ],
   "source": [
    "methane = Chem.MolFromSmiles(\"C\")\n",
    "methane"
   ]
  },
  {
   "cell_type": "code",
   "execution_count": 49,
   "id": "79a1cc7b-f632-4b7f-99fe-bf5401e50d6b",
   "metadata": {},
   "outputs": [
    {
     "name": "stdout",
     "output_type": "stream",
     "text": [
      "<class 'rdkit.Chem.rdchem.Mol'>\n",
      "<rdkit.Chem.rdchem.Mol object at 0x11a288dd0>\n"
     ]
    }
   ],
   "source": [
    "print(type(methane))\n",
    "print(methane)"
   ]
  },
  {
   "cell_type": "code",
   "execution_count": 5,
   "id": "6fb35c9f-b781-4531-9569-a261db304f0c",
   "metadata": {},
   "outputs": [
    {
     "data": {
      "image/png": "[encoded data removed]",
      "text/plain": [
       "<rdkit.Chem.rdchem.Mol at 0x11a28a730>"
      ]
     },
     "execution_count": 5,
     "metadata": {},
     "output_type": "execute_result"
    }
   ],
   "source": [
    "acetic_acid = Chem.MolFromSmiles('CC(=O)O')\n",
    "acetic_acid"
   ]
  },
  {
   "cell_type": "code",
   "execution_count": 16,
   "id": "f529bc3c-e74e-4617-a90b-cc3aeb65f80d",
   "metadata": {},
   "outputs": [
    {
     "name": "stdout",
     "output_type": "stream",
     "text": [
      "4\n"
     ]
    }
   ],
   "source": [
    "x = acetic_acid.GetNumHeavyAtoms()\n",
    "print(x)"
   ]
  },
  {
   "cell_type": "code",
   "execution_count": 21,
   "id": "8f562f97-1e38-48c5-8f2e-df329540c4e2",
   "metadata": {},
   "outputs": [],
   "source": [
    "# help(acetic_acid)"
   ]
  },
  {
   "cell_type": "code",
   "execution_count": 22,
   "id": "fb9d33d3-a005-4e07-9164-06d89e86d004",
   "metadata": {},
   "outputs": [
    {
     "name": "stdout",
     "output_type": "stream",
     "text": [
      "8\n"
     ]
    }
   ],
   "source": [
    "y = acetic_acid.GetNumAtoms(onlyExplicit = False)\n",
    "print(y)"
   ]
  },
  {
   "cell_type": "markdown",
   "id": "8d4dc81f-fd52-4686-ad48-d3e03aac72d0",
   "metadata": {},
   "source": [
    "## Loading a collection of small molecules\n",
    "In the next few cells, we'll read a text file that lists the SMILES strings for some nonsteroidal antiinflammatory drugs (NSAIDS) and then use them to start building a pandas dataframe. The SMILES strings for the NSAIDS can be found in nsaids.txt."
   ]
  },
  {
   "cell_type": "code",
   "execution_count": 23,
   "id": "9393addc-979c-43d5-b0ab-9e22c24c5dfe",
   "metadata": {},
   "outputs": [
    {
     "data": {
      "text/plain": [
       "('nsaids.csv', <http.client.HTTPMessage at 0x11a682aa0>)"
      ]
     },
     "execution_count": 23,
     "metadata": {},
     "output_type": "execute_result"
    }
   ],
   "source": [
    "from urllib.request import urlretrieve \n",
    "\n",
    "url = (\"https://raw.githubusercontent.com/MolSSI-Education/iqb-2025/refs/heads/paul/data/nsaids.csv\")\n",
    "\n",
    "filename = \"nsaids.csv\"\n",
    "\n",
    "urlretrieve(url, filename)"
   ]
  },
  {
   "cell_type": "code",
   "execution_count": 25,
   "id": "91905167-fe22-4059-a57e-8032bb95d101",
   "metadata": {},
   "outputs": [
    {
     "data": {
      "text/html": [
       "<div>\n",
       "<style scoped>\n",
       "    .dataframe tbody tr th:only-of-type {\n",
       "        vertical-align: middle;\n",
       "    }\n",
       "\n",
       "    .dataframe tbody tr th {\n",
       "        vertical-align: top;\n",
       "    }\n",
       "\n",
       "    .dataframe thead th {\n",
       "        text-align: right;\n",
       "    }\n",
       "</style>\n",
       "<table border=\"1\" class=\"dataframe\">\n",
       "  <thead>\n",
       "    <tr style=\"text-align: right;\">\n",
       "      <th></th>\n",
       "      <th>Name</th>\n",
       "      <th>SMILES</th>\n",
       "    </tr>\n",
       "  </thead>\n",
       "  <tbody>\n",
       "    <tr>\n",
       "      <th>0</th>\n",
       "      <td>Salicylic Acid</td>\n",
       "      <td>C1=CC=C(C(=C1)C(=O)O)O</td>\n",
       "    </tr>\n",
       "    <tr>\n",
       "      <th>1</th>\n",
       "      <td>Indomethacin</td>\n",
       "      <td>CC1=C(C2=C(N1C(=O)C3=CC=C(C=C3)Cl)C=CC(=C2)OC)...</td>\n",
       "    </tr>\n",
       "    <tr>\n",
       "      <th>2</th>\n",
       "      <td>Diclofenac</td>\n",
       "      <td>C1=CC=C(C(=C1)CC(=O)O)NC2=C(C=CC=C2Cl)Cl</td>\n",
       "    </tr>\n",
       "    <tr>\n",
       "      <th>3</th>\n",
       "      <td>Ibuprofen</td>\n",
       "      <td>CC(C)CC1=CC=C(C=C1)C(C)C(=O)O</td>\n",
       "    </tr>\n",
       "    <tr>\n",
       "      <th>4</th>\n",
       "      <td>Phenylbutazone</td>\n",
       "      <td>CCCCC1C(=O)N(N(C1=O)C2=CC=CC=C2)C3=CC=CC=C3</td>\n",
       "    </tr>\n",
       "  </tbody>\n",
       "</table>\n",
       "</div>"
      ],
      "text/plain": [
       "             Name                                             SMILES\n",
       "0  Salicylic Acid                             C1=CC=C(C(=C1)C(=O)O)O\n",
       "1    Indomethacin  CC1=C(C2=C(N1C(=O)C3=CC=C(C=C3)Cl)C=CC(=C2)OC)...\n",
       "2      Diclofenac           C1=CC=C(C(=C1)CC(=O)O)NC2=C(C=CC=C2Cl)Cl\n",
       "3       Ibuprofen                      CC(C)CC1=CC=C(C=C1)C(C)C(=O)O\n",
       "4  Phenylbutazone        CCCCC1C(=O)N(N(C1=O)C2=CC=CC=C2)C3=CC=CC=C3"
      ]
     },
     "execution_count": 25,
     "metadata": {},
     "output_type": "execute_result"
    }
   ],
   "source": [
    "import pandas as pd\n",
    "\n",
    "nsaids_file = \"nsaids.csv\"\n",
    "\n",
    "nsaids_df = pd.read_csv(nsaids_file)\n",
    "\n",
    "nsaids_df.head()"
   ]
  },
  {
   "cell_type": "markdown",
   "id": "62b870ec-1da6-49c8-9917-7343a1f581f2",
   "metadata": {},
   "source": [
    "## The .apply method\n",
    "\n",
    "The .apply method in pandas is used to apply a function along a row or column of a dataframe. This is useful when you have a custom function that you need to use on every value in a column, but there is not a NumPy or Pandas function for it.\n",
    "\n",
    "We are going to use apply to add a new column to nsaid_df that contains the rdkit molecule for each of the NSAIDs."
   ]
  },
  {
   "cell_type": "code",
   "execution_count": 26,
   "id": "79c89fa2-75fb-4b6c-9cfc-699a2c554359",
   "metadata": {},
   "outputs": [
    {
     "data": {
      "text/html": [
       "<div>\n",
       "<style scoped>\n",
       "    .dataframe tbody tr th:only-of-type {\n",
       "        vertical-align: middle;\n",
       "    }\n",
       "\n",
       "    .dataframe tbody tr th {\n",
       "        vertical-align: top;\n",
       "    }\n",
       "\n",
       "    .dataframe thead th {\n",
       "        text-align: right;\n",
       "    }\n",
       "</style>\n",
       "<table border=\"1\" class=\"dataframe\">\n",
       "  <thead>\n",
       "    <tr style=\"text-align: right;\">\n",
       "      <th></th>\n",
       "      <th>Name</th>\n",
       "      <th>SMILES</th>\n",
       "      <th>Molecule</th>\n",
       "    </tr>\n",
       "  </thead>\n",
       "  <tbody>\n",
       "    <tr>\n",
       "      <th>0</th>\n",
       "      <td>Salicylic Acid</td>\n",
       "      <td>C1=CC=C(C(=C1)C(=O)O)O</td>\n",
       "      <td>&lt;rdkit.Chem.rdchem.Mol object at 0x138ddfd10&gt;</td>\n",
       "    </tr>\n",
       "    <tr>\n",
       "      <th>1</th>\n",
       "      <td>Indomethacin</td>\n",
       "      <td>CC1=C(C2=C(N1C(=O)C3=CC=C(C=C3)Cl)C=CC(=C2)OC)...</td>\n",
       "      <td>&lt;rdkit.Chem.rdchem.Mol object at 0x138ddf920&gt;</td>\n",
       "    </tr>\n",
       "    <tr>\n",
       "      <th>2</th>\n",
       "      <td>Diclofenac</td>\n",
       "      <td>C1=CC=C(C(=C1)CC(=O)O)NC2=C(C=CC=C2Cl)Cl</td>\n",
       "      <td>&lt;rdkit.Chem.rdchem.Mol object at 0x138ddf840&gt;</td>\n",
       "    </tr>\n",
       "    <tr>\n",
       "      <th>3</th>\n",
       "      <td>Ibuprofen</td>\n",
       "      <td>CC(C)CC1=CC=C(C=C1)C(C)C(=O)O</td>\n",
       "      <td>&lt;rdkit.Chem.rdchem.Mol object at 0x138ddfdf0&gt;</td>\n",
       "    </tr>\n",
       "    <tr>\n",
       "      <th>4</th>\n",
       "      <td>Phenylbutazone</td>\n",
       "      <td>CCCCC1C(=O)N(N(C1=O)C2=CC=CC=C2)C3=CC=CC=C3</td>\n",
       "      <td>&lt;rdkit.Chem.rdchem.Mol object at 0x138ddfb50&gt;</td>\n",
       "    </tr>\n",
       "  </tbody>\n",
       "</table>\n",
       "</div>"
      ],
      "text/plain": [
       "             Name                                             SMILES  \\\n",
       "0  Salicylic Acid                             C1=CC=C(C(=C1)C(=O)O)O   \n",
       "1    Indomethacin  CC1=C(C2=C(N1C(=O)C3=CC=C(C=C3)Cl)C=CC(=C2)OC)...   \n",
       "2      Diclofenac           C1=CC=C(C(=C1)CC(=O)O)NC2=C(C=CC=C2Cl)Cl   \n",
       "3       Ibuprofen                      CC(C)CC1=CC=C(C=C1)C(C)C(=O)O   \n",
       "4  Phenylbutazone        CCCCC1C(=O)N(N(C1=O)C2=CC=CC=C2)C3=CC=CC=C3   \n",
       "\n",
       "                                        Molecule  \n",
       "0  <rdkit.Chem.rdchem.Mol object at 0x138ddfd10>  \n",
       "1  <rdkit.Chem.rdchem.Mol object at 0x138ddf920>  \n",
       "2  <rdkit.Chem.rdchem.Mol object at 0x138ddf840>  \n",
       "3  <rdkit.Chem.rdchem.Mol object at 0x138ddfdf0>  \n",
       "4  <rdkit.Chem.rdchem.Mol object at 0x138ddfb50>  "
      ]
     },
     "execution_count": 26,
     "metadata": {},
     "output_type": "execute_result"
    }
   ],
   "source": [
    "nsaids_df[\"Molecule\"] = nsaids_df[\"SMILES\"].apply(Chem.MolFromSmiles)\n",
    "nsaids_df.head()"
   ]
  },
  {
   "cell_type": "markdown",
   "id": "872a3575-a718-48d2-9de9-40c1b29a027e",
   "metadata": {},
   "source": [
    "At this point, nsaid_df contains two columns: the SMILES string and the molecule. We will go one step further and use apply to add another column to the dataframe that contains a descriptor based on the rdkit molecule. Before we can do that we need to import a new sublibrary from rdkit.Chem called Descriptors. Notice that the new columns will be based on the Molecule column, which contains rdkit mol objects."
   ]
  },
  {
   "cell_type": "code",
   "execution_count": 50,
   "id": "a150e126-d7ec-43ba-8379-fc98db8d2871",
   "metadata": {},
   "outputs": [
    {
     "data": {
      "text/html": [
       "<div>\n",
       "<style scoped>\n",
       "    .dataframe tbody tr th:only-of-type {\n",
       "        vertical-align: middle;\n",
       "    }\n",
       "\n",
       "    .dataframe tbody tr th {\n",
       "        vertical-align: top;\n",
       "    }\n",
       "\n",
       "    .dataframe thead th {\n",
       "        text-align: right;\n",
       "    }\n",
       "</style>\n",
       "<table border=\"1\" class=\"dataframe\">\n",
       "  <thead>\n",
       "    <tr style=\"text-align: right;\">\n",
       "      <th></th>\n",
       "      <th>Name</th>\n",
       "      <th>SMILES</th>\n",
       "      <th>Molecule</th>\n",
       "      <th>Mol Wt</th>\n",
       "      <th>logP</th>\n",
       "      <th>HBD</th>\n",
       "      <th>HBA</th>\n",
       "    </tr>\n",
       "  </thead>\n",
       "  <tbody>\n",
       "    <tr>\n",
       "      <th>0</th>\n",
       "      <td>Salicylic Acid</td>\n",
       "      <td>C1=CC=C(C(=C1)C(=O)O)O</td>\n",
       "      <td>&lt;rdkit.Chem.rdchem.Mol object at 0x138ddfd10&gt;</td>\n",
       "      <td>138.122</td>\n",
       "      <td>1.09040</td>\n",
       "      <td>2</td>\n",
       "      <td>3</td>\n",
       "    </tr>\n",
       "    <tr>\n",
       "      <th>1</th>\n",
       "      <td>Indomethacin</td>\n",
       "      <td>CC1=C(C2=C(N1C(=O)C3=CC=C(C=C3)Cl)C=CC(=C2)OC)...</td>\n",
       "      <td>&lt;rdkit.Chem.rdchem.Mol object at 0x138ddf920&gt;</td>\n",
       "      <td>357.793</td>\n",
       "      <td>3.92732</td>\n",
       "      <td>1</td>\n",
       "      <td>5</td>\n",
       "    </tr>\n",
       "    <tr>\n",
       "      <th>2</th>\n",
       "      <td>Diclofenac</td>\n",
       "      <td>C1=CC=C(C(=C1)CC(=O)O)NC2=C(C=CC=C2Cl)Cl</td>\n",
       "      <td>&lt;rdkit.Chem.rdchem.Mol object at 0x138ddf840&gt;</td>\n",
       "      <td>296.153</td>\n",
       "      <td>4.36410</td>\n",
       "      <td>2</td>\n",
       "      <td>3</td>\n",
       "    </tr>\n",
       "    <tr>\n",
       "      <th>3</th>\n",
       "      <td>Ibuprofen</td>\n",
       "      <td>CC(C)CC1=CC=C(C=C1)C(C)C(=O)O</td>\n",
       "      <td>&lt;rdkit.Chem.rdchem.Mol object at 0x138ddfdf0&gt;</td>\n",
       "      <td>206.285</td>\n",
       "      <td>3.07320</td>\n",
       "      <td>1</td>\n",
       "      <td>2</td>\n",
       "    </tr>\n",
       "    <tr>\n",
       "      <th>4</th>\n",
       "      <td>Phenylbutazone</td>\n",
       "      <td>CCCCC1C(=O)N(N(C1=O)C2=CC=CC=C2)C3=CC=CC=C3</td>\n",
       "      <td>&lt;rdkit.Chem.rdchem.Mol object at 0x138ddfb50&gt;</td>\n",
       "      <td>308.381</td>\n",
       "      <td>3.78780</td>\n",
       "      <td>0</td>\n",
       "      <td>4</td>\n",
       "    </tr>\n",
       "  </tbody>\n",
       "</table>\n",
       "</div>"
      ],
      "text/plain": [
       "             Name                                             SMILES  \\\n",
       "0  Salicylic Acid                             C1=CC=C(C(=C1)C(=O)O)O   \n",
       "1    Indomethacin  CC1=C(C2=C(N1C(=O)C3=CC=C(C=C3)Cl)C=CC(=C2)OC)...   \n",
       "2      Diclofenac           C1=CC=C(C(=C1)CC(=O)O)NC2=C(C=CC=C2Cl)Cl   \n",
       "3       Ibuprofen                      CC(C)CC1=CC=C(C=C1)C(C)C(=O)O   \n",
       "4  Phenylbutazone        CCCCC1C(=O)N(N(C1=O)C2=CC=CC=C2)C3=CC=CC=C3   \n",
       "\n",
       "                                        Molecule   Mol Wt     logP  HBD  HBA  \n",
       "0  <rdkit.Chem.rdchem.Mol object at 0x138ddfd10>  138.122  1.09040    2    3  \n",
       "1  <rdkit.Chem.rdchem.Mol object at 0x138ddf920>  357.793  3.92732    1    5  \n",
       "2  <rdkit.Chem.rdchem.Mol object at 0x138ddf840>  296.153  4.36410    2    3  \n",
       "3  <rdkit.Chem.rdchem.Mol object at 0x138ddfdf0>  206.285  3.07320    1    2  \n",
       "4  <rdkit.Chem.rdchem.Mol object at 0x138ddfb50>  308.381  3.78780    0    4  "
      ]
     },
     "execution_count": 50,
     "metadata": {},
     "output_type": "execute_result"
    }
   ],
   "source": [
    "from rdkit.Chem import Descriptors\n",
    "from rdkit.Chem import Lipinski\n",
    "\n",
    "nsaids_df[\"Mol Wt\"] = nsaids_df[\"Molecule\"].apply(Descriptors.MolWt)\n",
    "nsaids_df[\"logP\"] = nsaids_df[\"Molecule\"].apply(Descriptors.MolLogP)\n",
    "nsaids_df[\"HBD\"] = nsaids_df[\"Molecule\"].apply(Lipinski.NHOHCount)            # Number of hydrogen bond donors\n",
    "nsaids_df[\"HBA\"] = nsaids_df[\"Molecule\"].apply(Lipinski.NOCount)\n",
    "nsaids_df.head()"
   ]
  },
  {
   "cell_type": "code",
   "execution_count": 51,
   "id": "1217bcf2-403b-4a3d-b6dc-a1a622949f7b",
   "metadata": {},
   "outputs": [
    {
     "data": {
      "image/png": "[encoded data removed]",
      "text/plain": [
       "<rdkit.Chem.rdchem.Mol at 0x138ddfd10>"
      ]
     },
     "execution_count": 51,
     "metadata": {},
     "output_type": "execute_result"
    }
   ],
   "source": [
    "salicylic_acid = nsaids_df[\"Molecule\"][0]\n",
    "salicylic_acid"
   ]
  },
  {
   "cell_type": "code",
   "execution_count": 53,
   "id": "2a0f511a-86fe-468e-b514-1565e372868c",
   "metadata": {},
   "outputs": [
    {
     "data": {
      "text/plain": [
       "(22, 7)"
      ]
     },
     "execution_count": 53,
     "metadata": {},
     "output_type": "execute_result"
    }
   ],
   "source": [
    "nsaids_df.shape"
   ]
  },
  {
   "cell_type": "code",
   "execution_count": 52,
   "id": "85d53d24-48de-479f-bd5b-44f8dcaf4532",
   "metadata": {},
   "outputs": [
    {
     "name": "stderr",
     "output_type": "stream",
     "text": [
      "Matplotlib is building the font cache; this may take a moment.\n"
     ]
    },
    {
     "data": {
      "text/plain": [
       "array([[<Axes: title={'center': 'Mol Wt'}>,\n",
       "        <Axes: title={'center': 'logP'}>],\n",
       "       [<Axes: title={'center': 'HBD'}>, <Axes: title={'center': 'HBA'}>]],\n",
       "      dtype=object)"
      ]
     },
     "execution_count": 52,
     "metadata": {},
     "output_type": "execute_result"
    },
    {
     "data": {
      "image/png": "[encoded data removed]",
      "text/plain": [
       "<Figure size 800x800 with 4 Axes>"
      ]
     },
     "metadata": {},
     "output_type": "display_data"
    }
   ],
   "source": [
    "nsaids_df.hist(figsize=(8,8), edgecolor = 'black', grid = False)"
   ]
  },
  {
   "cell_type": "code",
   "execution_count": 54,
   "id": "ff2880b1-9301-47ec-84fc-08559c88c6f2",
   "metadata": {},
   "outputs": [
    {
     "data": {
      "text/plain": [
       "<Axes: xlabel='Name'>"
      ]
     },
     "execution_count": 54,
     "metadata": {},
     "output_type": "execute_result"
    },
    {
     "data": {
      "image/png": "[encoded data removed]",
      "text/plain": [
       "<Figure size 1000x500 with 1 Axes>"
      ]
     },
     "metadata": {},
     "output_type": "display_data"
    }
   ],
   "source": [
    "nsaids_df.plot.bar(x = 'Name', y = 'Mol Wt', figsize = (10,5))"
   ]
  },
  {
   "cell_type": "markdown",
   "id": "0cd95c32-d536-4562-9986-54be091017e9",
   "metadata": {},
   "source": [
    "In this notebook we will use the BindingDB, database of chemical structures and biological activity values extracted from the chemical literature, to search for compounds that bind to the SARS-CoV-2 main protease. In addition to hosting data from the scientifiic literature, BindingDB also has data extracted from chemical patents. We will extract the data from a SARS-CoV-2 inhibitor patent, explore this data, and save a representative subset for a subsequent docking analysis."
   ]
  },
  {
   "cell_type": "code",
   "execution_count": 1,
   "id": "9dc1fe48-58a4-4af1-a33b-bcfbb961ca85",
   "metadata": {},
   "outputs": [],
   "source": [
    "import pandas as pd\n",
    "import mols2grid\n",
    "import seaborn as sns\n",
    "import numpy as np\n",
    "from rdkit import Chem\n",
    "from rdkit.Chem import rdFMCS\n",
    "from rdkit.Chem.Scaffolds.MurckoScaffold import GetScaffoldForMol\n",
    "import useful_rdkit_utils as uru\n",
    "from IPython.core.display import HTML"
   ]
  },
  {
   "cell_type": "code",
   "execution_count": 2,
   "id": "04998e9c-59d0-4bf8-854e-d64f0d08befd",
   "metadata": {},
   "outputs": [],
   "source": [
    "df = pd.read_csv(\"https://raw.githubusercontent.com/PatWalters/practical_cheminformatics_tutorials/refs/heads/main/pdb/monomers_12285.tsv\",sep=\"\\t\")"
   ]
  },
  {
   "cell_type": "code",
   "execution_count": 3,
   "id": "a5b3afb0-5eb3-41dd-a5cb-13855a5d9413",
   "metadata": {},
   "outputs": [
    {
     "data": {
      "text/html": [
       "<div>\n",
       "<style scoped>\n",
       "    .dataframe tbody tr th:only-of-type {\n",
       "        vertical-align: middle;\n",
       "    }\n",
       "\n",
       "    .dataframe tbody tr th {\n",
       "        vertical-align: top;\n",
       "    }\n",
       "\n",
       "    .dataframe thead th {\n",
       "        text-align: right;\n",
       "    }\n",
       "</style>\n",
       "<table border=\"1\" class=\"dataframe\">\n",
       "  <thead>\n",
       "    <tr style=\"text-align: right;\">\n",
       "      <th></th>\n",
       "      <th>BindingDB Reactant_set_id</th>\n",
       "      <th>Ligand SMILES</th>\n",
       "      <th>Ligand InChI</th>\n",
       "      <th>Ligand InChI Key</th>\n",
       "      <th>BindingDB MonomerID</th>\n",
       "      <th>BindingDB Ligand Name</th>\n",
       "      <th>Target Name</th>\n",
       "      <th>Target Source Organism According to Curator or DataSource</th>\n",
       "      <th>Ki (nM)</th>\n",
       "      <th>IC50 (nM)</th>\n",
       "      <th>...</th>\n",
       "      <th>UniProt (SwissProt) Recommended Name of Target Chain</th>\n",
       "      <th>UniProt (SwissProt) Entry Name of Target Chain</th>\n",
       "      <th>UniProt (SwissProt) Primary ID of Target Chain</th>\n",
       "      <th>UniProt (SwissProt) Secondary ID(s) of Target Chain</th>\n",
       "      <th>UniProt (SwissProt) Alternative ID(s) of Target Chain</th>\n",
       "      <th>UniProt (TrEMBL) Submitted Name of Target Chain</th>\n",
       "      <th>UniProt (TrEMBL) Entry Name of Target Chain</th>\n",
       "      <th>UniProt (TrEMBL) Primary ID of Target Chain</th>\n",
       "      <th>UniProt (TrEMBL) Secondary ID(s) of Target Chain</th>\n",
       "      <th>UniProt (TrEMBL) Alternative ID(s) of Target Chain</th>\n",
       "    </tr>\n",
       "  </thead>\n",
       "  <tbody>\n",
       "    <tr>\n",
       "      <th>0</th>\n",
       "      <td>1442352</td>\n",
       "      <td>Clc1cccc(CN(C(=O)Cc2nnc3ccccn23)c2ccc(cc2)-c2c...</td>\n",
       "      <td>InChI=1S/C24H19ClN6O/c25-20-5-3-4-17(12-20)16-...</td>\n",
       "      <td>YQAKCKVVPJDXAF-UHFFFAOYSA-N</td>\n",
       "      <td>694369</td>\n",
       "      <td>US20240293380, Compound 1</td>\n",
       "      <td>Replicase polyprotein 1ab</td>\n",
       "      <td>Severe acute respiratory syndrome coronavirus 2</td>\n",
       "      <td>NaN</td>\n",
       "      <td>365.0</td>\n",
       "      <td>...</td>\n",
       "      <td>Replicase polyprotein 1ab</td>\n",
       "      <td>R1AB_SARS2</td>\n",
       "      <td>P0DTD1</td>\n",
       "      <td>NaN</td>\n",
       "      <td>NaN</td>\n",
       "      <td>ORF1ab polyprotein ORF1ab polyprotein  ORF1ab ...</td>\n",
       "      <td>A0A6V7ALW7_SARS2 A0A679G4D8_SARS2 N/A A0A6B9V0...</td>\n",
       "      <td>A0A6V7ALW7 A0A679G4D8 A0A6B9VP19 A0A6B9V049</td>\n",
       "      <td>A0A6C0M7K8</td>\n",
       "      <td>NaN</td>\n",
       "    </tr>\n",
       "    <tr>\n",
       "      <th>1</th>\n",
       "      <td>1442353</td>\n",
       "      <td>Clc1cccc(CN(C(=O)Cc2cncc3ccccc23)c2ccc(cc2)-c2...</td>\n",
       "      <td>InChI=1S/C27H21ClN4O/c28-24-6-3-4-19(12-24)18-...</td>\n",
       "      <td>XJXWAMOXLIGLOK-UHFFFAOYSA-N</td>\n",
       "      <td>694371</td>\n",
       "      <td>US20240293380, Compound 2</td>\n",
       "      <td>Replicase polyprotein 1ab</td>\n",
       "      <td>Severe acute respiratory syndrome coronavirus 2</td>\n",
       "      <td>NaN</td>\n",
       "      <td>30.0</td>\n",
       "      <td>...</td>\n",
       "      <td>Replicase polyprotein 1ab</td>\n",
       "      <td>R1AB_SARS2</td>\n",
       "      <td>P0DTD1</td>\n",
       "      <td>NaN</td>\n",
       "      <td>NaN</td>\n",
       "      <td>ORF1ab polyprotein ORF1ab polyprotein  ORF1ab ...</td>\n",
       "      <td>A0A6V7ALW7_SARS2 A0A679G4D8_SARS2 N/A A0A6B9V0...</td>\n",
       "      <td>A0A6V7ALW7 A0A679G4D8 A0A6B9VP19 A0A6B9V049</td>\n",
       "      <td>A0A6C0M7K8</td>\n",
       "      <td>NaN</td>\n",
       "    </tr>\n",
       "    <tr>\n",
       "      <th>2</th>\n",
       "      <td>1442354</td>\n",
       "      <td>Fc1ccc2nnc(CC(=O)N(Cc3cccc(Cl)c3)c3ccc(cc3)-c3...</td>\n",
       "      <td>InChI=1S/C24H18ClFN6O/c25-19-3-1-2-16(10-19)14...</td>\n",
       "      <td>OWZVYFBZPRFXIM-UHFFFAOYSA-N</td>\n",
       "      <td>694372</td>\n",
       "      <td>US20240293380, Compound 3</td>\n",
       "      <td>Replicase polyprotein 1ab</td>\n",
       "      <td>Severe acute respiratory syndrome coronavirus 2</td>\n",
       "      <td>NaN</td>\n",
       "      <td>3365.0</td>\n",
       "      <td>...</td>\n",
       "      <td>Replicase polyprotein 1ab</td>\n",
       "      <td>R1AB_SARS2</td>\n",
       "      <td>P0DTD1</td>\n",
       "      <td>NaN</td>\n",
       "      <td>NaN</td>\n",
       "      <td>ORF1ab polyprotein ORF1ab polyprotein  ORF1ab ...</td>\n",
       "      <td>A0A6V7ALW7_SARS2 A0A679G4D8_SARS2 N/A A0A6B9V0...</td>\n",
       "      <td>A0A6V7ALW7 A0A679G4D8 A0A6B9VP19 A0A6B9V049</td>\n",
       "      <td>A0A6C0M7K8</td>\n",
       "      <td>NaN</td>\n",
       "    </tr>\n",
       "    <tr>\n",
       "      <th>3</th>\n",
       "      <td>1442355</td>\n",
       "      <td>Clc1cccc(CN(C(=O)Cc2cnc3ccccn23)c2ccc(cc2)-c2c...</td>\n",
       "      <td>InChI=1S/C25H20ClN5O/c26-21-5-3-4-18(12-21)17-...</td>\n",
       "      <td>ISMCHMDTFJNEJC-UHFFFAOYSA-N</td>\n",
       "      <td>694373</td>\n",
       "      <td>US20240293380, Compound 4</td>\n",
       "      <td>Replicase polyprotein 1ab</td>\n",
       "      <td>Severe acute respiratory syndrome coronavirus 2</td>\n",
       "      <td>NaN</td>\n",
       "      <td>1146.0</td>\n",
       "      <td>...</td>\n",
       "      <td>Replicase polyprotein 1ab</td>\n",
       "      <td>R1AB_SARS2</td>\n",
       "      <td>P0DTD1</td>\n",
       "      <td>NaN</td>\n",
       "      <td>NaN</td>\n",
       "      <td>ORF1ab polyprotein ORF1ab polyprotein  ORF1ab ...</td>\n",
       "      <td>A0A6V7ALW7_SARS2 A0A679G4D8_SARS2 N/A A0A6B9V0...</td>\n",
       "      <td>A0A6V7ALW7 A0A679G4D8 A0A6B9VP19 A0A6B9V049</td>\n",
       "      <td>A0A6C0M7K8</td>\n",
       "      <td>NaN</td>\n",
       "    </tr>\n",
       "    <tr>\n",
       "      <th>4</th>\n",
       "      <td>1442356</td>\n",
       "      <td>Clc1cccc(CN(C(=O)Cc2cnccn2)c2ccc(cc2)-c2cn[nH]...</td>\n",
       "      <td>InChI=1S/C22H18ClN5O/c23-19-3-1-2-16(10-19)15-...</td>\n",
       "      <td>ZGRFZXXCTIRFCB-UHFFFAOYSA-N</td>\n",
       "      <td>694374</td>\n",
       "      <td>US20240293380, Compound 5</td>\n",
       "      <td>Replicase polyprotein 1ab</td>\n",
       "      <td>Severe acute respiratory syndrome coronavirus 2</td>\n",
       "      <td>NaN</td>\n",
       "      <td>5217.0</td>\n",
       "      <td>...</td>\n",
       "      <td>Replicase polyprotein 1ab</td>\n",
       "      <td>R1AB_SARS2</td>\n",
       "      <td>P0DTD1</td>\n",
       "      <td>NaN</td>\n",
       "      <td>NaN</td>\n",
       "      <td>ORF1ab polyprotein ORF1ab polyprotein  ORF1ab ...</td>\n",
       "      <td>A0A6V7ALW7_SARS2 A0A679G4D8_SARS2 N/A A0A6B9V0...</td>\n",
       "      <td>A0A6V7ALW7 A0A679G4D8 A0A6B9VP19 A0A6B9V049</td>\n",
       "      <td>A0A6C0M7K8</td>\n",
       "      <td>NaN</td>\n",
       "    </tr>\n",
       "  </tbody>\n",
       "</table>\n",
       "<p>5 rows × 50 columns</p>\n",
       "</div>"
      ],
      "text/plain": [
       "   BindingDB Reactant_set_id  \\\n",
       "0                    1442352   \n",
       "1                    1442353   \n",
       "2                    1442354   \n",
       "3                    1442355   \n",
       "4                    1442356   \n",
       "\n",
       "                                       Ligand SMILES  \\\n",
       "0  Clc1cccc(CN(C(=O)Cc2nnc3ccccn23)c2ccc(cc2)-c2c...   \n",
       "1  Clc1cccc(CN(C(=O)Cc2cncc3ccccc23)c2ccc(cc2)-c2...   \n",
       "2  Fc1ccc2nnc(CC(=O)N(Cc3cccc(Cl)c3)c3ccc(cc3)-c3...   \n",
       "3  Clc1cccc(CN(C(=O)Cc2cnc3ccccn23)c2ccc(cc2)-c2c...   \n",
       "4  Clc1cccc(CN(C(=O)Cc2cnccn2)c2ccc(cc2)-c2cn[nH]...   \n",
       "\n",
       "                                        Ligand InChI  \\\n",
       "0  InChI=1S/C24H19ClN6O/c25-20-5-3-4-17(12-20)16-...   \n",
       "1  InChI=1S/C27H21ClN4O/c28-24-6-3-4-19(12-24)18-...   \n",
       "2  InChI=1S/C24H18ClFN6O/c25-19-3-1-2-16(10-19)14...   \n",
       "3  InChI=1S/C25H20ClN5O/c26-21-5-3-4-18(12-21)17-...   \n",
       "4  InChI=1S/C22H18ClN5O/c23-19-3-1-2-16(10-19)15-...   \n",
       "\n",
       "              Ligand InChI Key  BindingDB MonomerID  \\\n",
       "0  YQAKCKVVPJDXAF-UHFFFAOYSA-N               694369   \n",
       "1  XJXWAMOXLIGLOK-UHFFFAOYSA-N               694371   \n",
       "2  OWZVYFBZPRFXIM-UHFFFAOYSA-N               694372   \n",
       "3  ISMCHMDTFJNEJC-UHFFFAOYSA-N               694373   \n",
       "4  ZGRFZXXCTIRFCB-UHFFFAOYSA-N               694374   \n",
       "\n",
       "       BindingDB Ligand Name                Target Name  \\\n",
       "0  US20240293380, Compound 1  Replicase polyprotein 1ab   \n",
       "1  US20240293380, Compound 2  Replicase polyprotein 1ab   \n",
       "2  US20240293380, Compound 3  Replicase polyprotein 1ab   \n",
       "3  US20240293380, Compound 4  Replicase polyprotein 1ab   \n",
       "4  US20240293380, Compound 5  Replicase polyprotein 1ab   \n",
       "\n",
       "  Target Source Organism According to Curator or DataSource  Ki (nM)  \\\n",
       "0    Severe acute respiratory syndrome coronavirus 2             NaN   \n",
       "1    Severe acute respiratory syndrome coronavirus 2             NaN   \n",
       "2    Severe acute respiratory syndrome coronavirus 2             NaN   \n",
       "3    Severe acute respiratory syndrome coronavirus 2             NaN   \n",
       "4    Severe acute respiratory syndrome coronavirus 2             NaN   \n",
       "\n",
       "   IC50 (nM)  ...  UniProt (SwissProt) Recommended Name of Target Chain  \\\n",
       "0      365.0  ...                          Replicase polyprotein 1ab      \n",
       "1       30.0  ...                          Replicase polyprotein 1ab      \n",
       "2     3365.0  ...                          Replicase polyprotein 1ab      \n",
       "3     1146.0  ...                          Replicase polyprotein 1ab      \n",
       "4     5217.0  ...                          Replicase polyprotein 1ab      \n",
       "\n",
       "   UniProt (SwissProt) Entry Name of Target Chain  \\\n",
       "0                                      R1AB_SARS2   \n",
       "1                                      R1AB_SARS2   \n",
       "2                                      R1AB_SARS2   \n",
       "3                                      R1AB_SARS2   \n",
       "4                                      R1AB_SARS2   \n",
       "\n",
       "   UniProt (SwissProt) Primary ID of Target Chain  \\\n",
       "0                                          P0DTD1   \n",
       "1                                          P0DTD1   \n",
       "2                                          P0DTD1   \n",
       "3                                          P0DTD1   \n",
       "4                                          P0DTD1   \n",
       "\n",
       "   UniProt (SwissProt) Secondary ID(s) of Target Chain  \\\n",
       "0                                                NaN     \n",
       "1                                                NaN     \n",
       "2                                                NaN     \n",
       "3                                                NaN     \n",
       "4                                                NaN     \n",
       "\n",
       "   UniProt (SwissProt) Alternative ID(s) of Target Chain  \\\n",
       "0                                                NaN       \n",
       "1                                                NaN       \n",
       "2                                                NaN       \n",
       "3                                                NaN       \n",
       "4                                                NaN       \n",
       "\n",
       "     UniProt (TrEMBL) Submitted Name of Target Chain  \\\n",
       "0  ORF1ab polyprotein ORF1ab polyprotein  ORF1ab ...   \n",
       "1  ORF1ab polyprotein ORF1ab polyprotein  ORF1ab ...   \n",
       "2  ORF1ab polyprotein ORF1ab polyprotein  ORF1ab ...   \n",
       "3  ORF1ab polyprotein ORF1ab polyprotein  ORF1ab ...   \n",
       "4  ORF1ab polyprotein ORF1ab polyprotein  ORF1ab ...   \n",
       "\n",
       "         UniProt (TrEMBL) Entry Name of Target Chain  \\\n",
       "0  A0A6V7ALW7_SARS2 A0A679G4D8_SARS2 N/A A0A6B9V0...   \n",
       "1  A0A6V7ALW7_SARS2 A0A679G4D8_SARS2 N/A A0A6B9V0...   \n",
       "2  A0A6V7ALW7_SARS2 A0A679G4D8_SARS2 N/A A0A6B9V0...   \n",
       "3  A0A6V7ALW7_SARS2 A0A679G4D8_SARS2 N/A A0A6B9V0...   \n",
       "4  A0A6V7ALW7_SARS2 A0A679G4D8_SARS2 N/A A0A6B9V0...   \n",
       "\n",
       "   UniProt (TrEMBL) Primary ID of Target Chain  \\\n",
       "0  A0A6V7ALW7 A0A679G4D8 A0A6B9VP19 A0A6B9V049   \n",
       "1  A0A6V7ALW7 A0A679G4D8 A0A6B9VP19 A0A6B9V049   \n",
       "2  A0A6V7ALW7 A0A679G4D8 A0A6B9VP19 A0A6B9V049   \n",
       "3  A0A6V7ALW7 A0A679G4D8 A0A6B9VP19 A0A6B9V049   \n",
       "4  A0A6V7ALW7 A0A679G4D8 A0A6B9VP19 A0A6B9V049   \n",
       "\n",
       "  UniProt (TrEMBL) Secondary ID(s) of Target Chain  \\\n",
       "0                                       A0A6C0M7K8   \n",
       "1                                       A0A6C0M7K8   \n",
       "2                                       A0A6C0M7K8   \n",
       "3                                       A0A6C0M7K8   \n",
       "4                                       A0A6C0M7K8   \n",
       "\n",
       "   UniProt (TrEMBL) Alternative ID(s) of Target Chain  \n",
       "0                                                NaN   \n",
       "1                                                NaN   \n",
       "2                                                NaN   \n",
       "3                                                NaN   \n",
       "4                                                NaN   \n",
       "\n",
       "[5 rows x 50 columns]"
      ]
     },
     "execution_count": 3,
     "metadata": {},
     "output_type": "execute_result"
    }
   ],
   "source": [
    "df.head()"
   ]
  },
  {
   "cell_type": "code",
   "execution_count": 4,
   "id": "daf3a46f-9ff1-415e-b5a4-23314730c579",
   "metadata": {},
   "outputs": [
    {
     "data": {
      "text/plain": [
       "(75, 50)"
      ]
     },
     "execution_count": 4,
     "metadata": {},
     "output_type": "execute_result"
    }
   ],
   "source": [
    "df.shape"
   ]
  },
  {
   "cell_type": "code",
   "execution_count": 5,
   "id": "327dba4e-ab26-4de2-b8a3-76c9c02ed03f",
   "metadata": {},
   "outputs": [],
   "source": [
    "df.rename(columns={\"Ligand SMILES\": \"SMILES\"}, inplace = True)\n",
    "df.rename(columns={\"BindingDB Ligand Name\": \"Name\"}, inplace = True)"
   ]
  },
  {
   "cell_type": "markdown",
   "id": "79d9a84d-35a4-46a7-aa28-710b2725518b",
   "metadata": {},
   "source": [
    "We can aslo see that the data has 75 rows, with each compound corresponding to a row. For our purposes, we'll focus on a few fields.\n",
    "\n",
    "* SMILES - the chemical structure of the compound\n",
    "* Name - the internal identifier Binding DB provides for each compund\n",
    "* IC50 (nM) - the IC50 in nM.\n",
    "\n",
    "The IC50, or half maximal inhibitory concentration, is a measure of a substance's potency in inhibiting a specific biological or biochemical function. It represents the concentration of an inhibitor needed to reduce a particular biological process or component by 50% in vitro, and is commonly used to assess the effectiveness of drugs in pharmacological research. IC50 values are typically expressed as nM concentrations and provide a quantitative indication of how much of an inhibitory substance is required to achieve half-maximal inhibition of a given target or process"
   ]
  },
  {
   "cell_type": "markdown",
   "id": "ee60fa84-8105-490c-8a0b-93218ad3fb8b",
   "metadata": {},
   "source": [
    "We can use mols2grid to browse the chemcial structures of the 75 compounds."
   ]
  },
  {
   "cell_type": "code",
   "execution_count": 6,
   "id": "aa3751bc-f7f8-4d00-885e-bfce2b6c01cd",
   "metadata": {},
   "outputs": [
    {
     "data": {
      "text/html": [
       "<script>\n",
       "    function fit_height(obj) {\n",
       "        obj.style.height = 0;\n",
       "        var height = obj.contentDocument.body.scrollHeight + 18 + 'px';\n",
       "        obj.style.height = height;\n",
       "    }\n",
       "</script>\n",
       "<iframe class=\"mols2grid-iframe\" frameborder=\"0\" width=\"100%\"\n",
       "\n",
       "height=\"200\"\n",
       "\n",
       "\n",
       "allow=\"clipboard-write\"\n",
       "\n",
       "srcdoc=\"&lt;html&gt;\n",
       "  &lt;meta charset=&quot;utf-8&quot;&gt;\n",
       "  &lt;head&gt;\n",
       "    &lt;style&gt;\n",
       "    #mols2grid.gridcontainer {\n",
       "    display: block;\n",
       "    padding-left: 1em;\n",
       "    max-width: 820px;\n",
       "    width: 820px;\n",
       "}\n",
       "#mols2grid .cell {\n",
       "    border: 1px solid #cccccc;\n",
       "    text-align: center;\n",
       "    vertical-align: top;\n",
       "    max-width: 160px;\n",
       "    width: 160px;\n",
       "    font-family: &#x27;DejaVu&#x27;, sans-serif;\n",
       "    font-size: 12pt;\n",
       "    padding: 0;\n",
       "    margin: 0px;\n",
       "    float: left;\n",
       "}\n",
       "#mols2grid .cell:hover {\n",
       "    background-color: #e7e7e7 !important;\n",
       "}\n",
       "#mols2grid .cell .data-img {\n",
       "    padding: 0;\n",
       "    margin: 0;\n",
       "}\n",
       "#mols2grid .cell img, #mols2grid .cell svg {\n",
       "    max-width: 100%;\n",
       "    height: auto;\n",
       "    padding: 0;\n",
       "}\n",
       "#mols2grid .data {\n",
       "    overflow: hidden;\n",
       "    white-space: nowrap;\n",
       "    text-overflow: ellipsis;\n",
       "    display: block;\n",
       "}\n",
       "#mols2grid .arrow-asc:after {\n",
       "    content: &#x27;↑&#x27;;\n",
       "    text-align: right;\n",
       "    float:right;\n",
       "}\n",
       "#mols2grid .arrow-desc:after {\n",
       "    content: &#x27;↓&#x27;;\n",
       "    text-align: right;\n",
       "    float:right;\n",
       "}\n",
       "    /* custom CSS */\n",
       "    \n",
       "    &lt;/style&gt;\n",
       "    &lt;script src=&quot;https://cdnjs.cloudflare.com/ajax/libs/list.js/2.3.1/list.min.js&quot;&gt;&lt;/script&gt;\n",
       "&lt;link rel=&quot;stylesheet&quot; href=&quot;https://cdn.jsdelivr.net/npm/bootstrap@4.6.0/dist/css/bootstrap.min.css&quot; integrity=&quot;sha384-B0vP5xmATw1+K9KRQjQERJvTumQW0nPEzvF6L/Z6nronJ3oUOFUFpCjEUQouq2+l&quot; crossorigin=&quot;anonymous&quot;&gt;\n",
       "&lt;script src=&quot;https://code.jquery.com/jquery-3.6.0.min.js&quot; integrity=&quot;sha256-/xUj+3OJU5yExlq6GSYGSHk7tPXikynS7ogEvDej/m4=&quot; crossorigin=&quot;anonymous&quot;&gt;&lt;/script&gt;\n",
       "&lt;script src=&quot;https://cdn.jsdelivr.net/npm/bootstrap@4.6.0/dist/js/bootstrap.bundle.min.js&quot; integrity=&quot;sha384-Piv4xVNRyMGpqkS2by6br4gNJ7DXjqk09RmUpJ8jgGtD7zP9yug3goQfGII0yAns&quot; crossorigin=&quot;anonymous&quot;&gt;&lt;/script&gt;\n",
       "&lt;script src=&quot;https://unpkg.com/@rdkit/rdkit@2022.3.1/Code/MinimalLib/dist/RDKit_minimal.js&quot;&gt;&lt;/script&gt;\n",
       "    &lt;!-- custom header --&gt;\n",
       "    \n",
       "  &lt;/head&gt;\n",
       "  &lt;body&gt;\n",
       "    &lt;div id=&quot;mols2grid&quot; class=&quot;gridcontainer grid-default&quot;&gt;\n",
       "      &lt;div class=&quot;row mb-3&quot;&gt;\n",
       "        &lt;div class=&quot;list&quot;&gt;&lt;div class=&quot;cell&quot; data-mols2grid-id=&quot;0&quot;&gt;&lt;input type=&quot;checkbox&quot; class=&quot;position-relative float-left cached_checkbox&quot;&gt;&lt;div class=&quot;data data-img&quot;&gt;&lt;/div&gt;&lt;div class=&quot;data data-IC50-(nM)&quot;&gt;&lt;/div&gt;&lt;div class=&quot;data data-SMILES&quot; style=&quot;display: none;&quot;&gt;&lt;/div&gt;&lt;/div&gt;&lt;/div&gt;\n",
       "      &lt;/div&gt;\n",
       "      &lt;div class=&quot;d-inline&quot;&gt;\n",
       "        &lt;ul class=&quot;pagination float-left&quot;&gt;&lt;/ul&gt;\n",
       "        &lt;div id=&quot;controls&quot; class=&quot;d-flex flex-row float-right&quot;&gt;\n",
       "          \n",
       "          &lt;div id=&quot;chkbox-dropdown&quot; class=&quot;dropdown&quot;&gt;\n",
       "    &lt;button class=&quot;btn btn-light dropdown-toggle&quot; type=&quot;button&quot; id=&quot;chkboxDropdown&quot; data-toggle=&quot;dropdown&quot; aria-haspopup=&quot;true&quot; aria-expanded=&quot;false&quot;&gt;☑&lt;/button&gt;\n",
       "    &lt;div class=&quot;dropdown-menu&quot; aria-labelledby=&quot;checkboxDropdownMenu&quot;&gt;\n",
       "        &lt;button id=&quot;btn-chkbox-all&quot; class=&quot;dropdown-item&quot; type=&quot;button&quot;&gt;Check all&lt;/button&gt;\n",
       "        &lt;button id=&quot;btn-chkbox-match&quot; class=&quot;dropdown-item&quot; type=&quot;button&quot;&gt;Check matching&lt;/button&gt;\n",
       "        &lt;button id=&quot;btn-chkbox-none&quot; class=&quot;dropdown-item&quot; type=&quot;button&quot;&gt;Uncheck all&lt;/button&gt;\n",
       "        &lt;button id=&quot;btn-chkbox-invert&quot; class=&quot;dropdown-item&quot; type=&quot;button&quot;&gt;Invert&lt;/button&gt;\n",
       "        &lt;div class=&quot;dropdown-divider&quot;&gt;&lt;/div&gt;\n",
       "        &lt;button id=&quot;btn-chkbox-copy&quot; class=&quot;dropdown-item&quot; type=&quot;button&quot;&gt;Copy to clipboard&lt;/button&gt;\n",
       "        &lt;button id=&quot;btn-chkbox-dlsmi&quot; class=&quot;dropdown-item&quot; type=&quot;button&quot;&gt;Save SMILES&lt;/button&gt;\n",
       "        &lt;button id=&quot;btn-chkbox-dlcsv&quot; class=&quot;dropdown-item&quot; type=&quot;button&quot;&gt;Save CSV&lt;/button&gt;\n",
       "    &lt;/div&gt;\n",
       "&lt;/div&gt;\n",
       "          \n",
       "          &lt;div id=&quot;sort-dropdown&quot; class=&quot;dropdown pl-2&quot;&gt;\n",
       "            &lt;button class=&quot;btn btn-light dropdown-toggle&quot; type=&quot;button&quot; id=&quot;sortDropdown&quot; data-toggle=&quot;dropdown&quot; aria-haspopup=&quot;true&quot; aria-expanded=&quot;false&quot;&gt;\n",
       "              Sort by\n",
       "            &lt;/button&gt;\n",
       "            &lt;div class=&quot;dropdown-menu&quot; aria-labelledby=&quot;sortDropdownMenu&quot;&gt;\n",
       "              \n",
       "              \n",
       "              \n",
       "              \n",
       "              \n",
       "              &lt;button class=&quot;dropdown-item sort-btn arrow-asc active&quot; type=&quot;button&quot; data-name=&quot;mols2grid-id&quot;&gt;Index&lt;/button&gt;\n",
       "              \n",
       "              \n",
       "              \n",
       "              \n",
       "              \n",
       "              &lt;button class=&quot;dropdown-item sort-btn &quot; type=&quot;button&quot; data-name=&quot;data-IC50-(nM)&quot;&gt;IC50-(nM)&lt;/button&gt;\n",
       "              \n",
       "              \n",
       "              \n",
       "              &lt;button class=&quot;dropdown-item sort-btn&quot; type=&quot;button&quot; data-name=&quot;checkbox&quot;&gt;Selected&lt;/button&gt;\n",
       "              \n",
       "            &lt;/div&gt;\n",
       "          &lt;/div&gt;\n",
       "          &lt;div class=&quot;input-group row pl-4&quot;&gt;\n",
       "            &lt;input type=&quot;text&quot; id=&quot;searchbar&quot; class=&quot;form-control&quot; placeholder=&quot;Search&quot; aria-label=&quot;Search&quot; aria-describedby=&quot;basic-addon1&quot;&gt;\n",
       "            &lt;div class=&quot;input-group-append&quot;&gt;\n",
       "              &lt;button id=&quot;searchBtn&quot; class=&quot;btn btn-light dropdown-toggle&quot; type=&quot;button&quot; data-toggle=&quot;dropdown&quot; aria-haspopup=&quot;true&quot; aria-expanded=&quot;false&quot;&gt;🔎&lt;/button&gt;\n",
       "              &lt;div class=&quot;dropdown-menu dropdown-menu-right&quot;&gt;\n",
       "                &lt;button id=&quot;txtSearch&quot; class=&quot;search-btn dropdown-item active&quot;&gt;Text&lt;/button&gt;\n",
       "                &lt;button id=&quot;smartsSearch&quot; class=&quot;search-btn dropdown-item&quot;&gt;SMARTS&lt;/button&gt;\n",
       "              &lt;/div&gt;\n",
       "            &lt;/div&gt;\n",
       "          &lt;/div&gt;\n",
       "        &lt;/div&gt;\n",
       "      &lt;/div&gt;\n",
       "    &lt;/div&gt;\n",
       "    &lt;script&gt;\n",
       "    // list.js\n",
       "var listObj = new List(&#x27;mols2grid&#x27;, {\n",
       "    valueNames: [{data: [&#x27;mols2grid-id&#x27;]}, &#x27;data-SMILES&#x27;, &#x27;data-IC50-(nM)&#x27;, &#x27;data-img&#x27;],\n",
       "    item: &#x27;&lt;div class=&quot;cell&quot; data-mols2grid-id=&quot;0&quot;&gt;&lt;input type=&quot;checkbox&quot; class=&quot;position-relative float-left cached_checkbox&quot;&gt;&lt;div class=&quot;data data-img&quot;&gt;&lt;/div&gt;&lt;div class=&quot;data data-IC50-(nM)&quot;&gt;&lt;/div&gt;&lt;div class=&quot;data data-SMILES&quot; style=&quot;display: none;&quot;&gt;&lt;/div&gt;&lt;/div&gt;&#x27;,\n",
       "    page: 15,\n",
       "    pagination: {\n",
       "        name: &quot;pagination&quot;,\n",
       "        item: &#x27;&lt;li class=&quot;page-item&quot;&gt;&lt;a class=&quot;page page-link&quot; href=&quot;#&quot; onclick=&quot;event.preventDefault()&quot;&gt;&lt;/a&gt;&lt;/li&gt;&#x27;,\n",
       "        innerWindow: 1,\n",
       "        outerWindow: 1,\n",
       "    },\n",
       "});\n",
       "listObj.remove(&quot;mols2grid-id&quot;, &quot;0&quot;);\n",
       "listObj.add([{&quot;data-SMILES&quot;: &quot;Clc1cccc(CN(C(=O)Cc2nnc3ccccn23)c2ccc(cc2)-c2cn[nH]c2)c1&quot;, &quot;mols2grid-id&quot;: 0, &quot;data-IC50-(nM)&quot;: 365.0, &quot;data-img&quot;: null}, {&quot;data-SMILES&quot;: &quot;Clc1cccc(CN(C(=O)Cc2cncc3ccccc23)c2ccc(cc2)-c2cn[nH]c2)c1&quot;, &quot;mols2grid-id&quot;: 1, &quot;data-IC50-(nM)&quot;: 30.0, &quot;data-img&quot;: null}, {&quot;data-SMILES&quot;: &quot;Fc1ccc2nnc(CC(=O)N(Cc3cccc(Cl)c3)c3ccc(cc3)-c3cn[nH]c3)n2c1&quot;, &quot;mols2grid-id&quot;: 2, &quot;data-IC50-(nM)&quot;: 3365.0, &quot;data-img&quot;: null}, {&quot;data-SMILES&quot;: &quot;Clc1cccc(CN(C(=O)Cc2cnc3ccccn23)c2ccc(cc2)-c2cn[nH]c2)c1&quot;, &quot;mols2grid-id&quot;: 3, &quot;data-IC50-(nM)&quot;: 1146.0, &quot;data-img&quot;: null}, {&quot;data-SMILES&quot;: &quot;Clc1cccc(CN(C(=O)Cc2cnccn2)c2ccc(cc2)-c2cn[nH]c2)c1&quot;, &quot;mols2grid-id&quot;: 4, &quot;data-IC50-(nM)&quot;: 5217.0, &quot;data-img&quot;: null}, {&quot;data-SMILES&quot;: &quot;Clc1cccc(CN(C(=O)Cc2cccnn2)c2ccc(cc2)-c2cn[nH]c2)c1&quot;, &quot;mols2grid-id&quot;: 5, &quot;data-IC50-(nM)&quot;: 5000.0, &quot;data-img&quot;: null}, {&quot;data-SMILES&quot;: &quot;Fc1cc(Cl)cc(CN(C(=O)Cc2nnc3ccccn23)c2ccc(cc2)-c2c[nH]cn2)c1&quot;, &quot;mols2grid-id&quot;: 6, &quot;data-IC50-(nM)&quot;: 71.0, &quot;data-img&quot;: null}, {&quot;data-SMILES&quot;: &quot;Fc1ccc2nnc(CC(=O)N(Cc3cc(F)cc(Cl)c3)c3ccc(cc3)-c3c[nH]cn3)n2c1&quot;, &quot;mols2grid-id&quot;: 7, &quot;data-IC50-(nM)&quot;: 77.0, &quot;data-img&quot;: null}, {&quot;data-SMILES&quot;: &quot;Fc1cc(Cl)cc(CN(C(=O)Cc2cnc3ccccn23)c2ccc(cc2)-c2c[nH]cn2)c1&quot;, &quot;mols2grid-id&quot;: 8, &quot;data-IC50-(nM)&quot;: 65.0, &quot;data-img&quot;: null}, {&quot;data-SMILES&quot;: &quot;Fc1cc(Cl)cc(CN(C(=O)Cc2cncc3ccccc23)c2ccc(cc2)-c2c[nH]cn2)c1&quot;, &quot;mols2grid-id&quot;: 9, &quot;data-IC50-(nM)&quot;: 15.0, &quot;data-img&quot;: null}, {&quot;data-SMILES&quot;: &quot;C[C@@H](N(C(=O)Cc1nnc2ccccn12)c1ccc(cc1)-c1c[nH]cn1)c1cc(F)cc(Cl)c1&quot;, &quot;mols2grid-id&quot;: 10, &quot;data-IC50-(nM)&quot;: 587.0, &quot;data-img&quot;: null}, {&quot;data-SMILES&quot;: &quot;C[C@@H](N(C(=O)Cc1cncc2ccccc12)c1ccc(cc1)-c1c[nH]cn1)c1cc(F)cc(Cl)c1&quot;, &quot;mols2grid-id&quot;: 11, &quot;data-IC50-(nM)&quot;: 76.0, &quot;data-img&quot;: null}, {&quot;data-SMILES&quot;: &quot;Fc1ccc(Cl)cc1CN(C(=O)Cc1cncc2ccccc12)c1ccc(cc1)-c1c[nH]cn1&quot;, &quot;mols2grid-id&quot;: 12, &quot;data-IC50-(nM)&quot;: 308.0, &quot;data-img&quot;: null}, {&quot;data-SMILES&quot;: &quot;Fc1c(Cl)cccc1CN(C(=O)Cc1cncc2ccccc12)c1ccc(cc1)-c1c[nH]cn1&quot;, &quot;mols2grid-id&quot;: 13, &quot;data-IC50-(nM)&quot;: 370.0, &quot;data-img&quot;: null}, {&quot;data-SMILES&quot;: &quot;Clc1cncc(CN(C(=O)Cc2cncc3ccccc23)c2ccc(cc2)-c2c[nH]cn2)c1&quot;, &quot;mols2grid-id&quot;: 14, &quot;data-IC50-(nM)&quot;: 101.0, &quot;data-img&quot;: null}, {&quot;data-SMILES&quot;: &quot;COc1ccc(Cl)cc1CN(C(=O)Cc1cncc2ccccc12)c1ccc(cc1)-c1c[nH]cn1&quot;, &quot;mols2grid-id&quot;: 15, &quot;data-IC50-(nM)&quot;: 191.0, &quot;data-img&quot;: null}, {&quot;data-SMILES&quot;: &quot;COc1cc(Cl)cc(CN(C(=O)Cc2cncc3ccccc23)c2ccc(cc2)-c2c[nH]cn2)c1&quot;, &quot;mols2grid-id&quot;: 16, &quot;data-IC50-(nM)&quot;: 100.0, &quot;data-img&quot;: null}, {&quot;data-SMILES&quot;: &quot;Fc1ccc(F)c(CN(C(=O)Cc2nnc3ccccn23)c2ccc(cc2)-c2c[nH]cn2)c1&quot;, &quot;mols2grid-id&quot;: 17, &quot;data-IC50-(nM)&quot;: 786.0, &quot;data-img&quot;: null}, {&quot;data-SMILES&quot;: &quot;Fc1ccc(F)c(CN(C(=O)Cc2cncc3ccccc23)c2ccc(cc2)-c2c[nH]cn2)c1&quot;, &quot;mols2grid-id&quot;: 18, &quot;data-IC50-(nM)&quot;: 159.0, &quot;data-img&quot;: null}, {&quot;data-SMILES&quot;: &quot;Fc1cccc(CN(C(=O)Cc2nnc3ccccn23)c2ccc(cc2)-c2c[nH]cn2)c1F&quot;, &quot;mols2grid-id&quot;: 19, &quot;data-IC50-(nM)&quot;: 1297.0, &quot;data-img&quot;: null}, {&quot;data-SMILES&quot;: &quot;Fc1cccc(CN(C(=O)Cc2cncc3ccccc23)c2ccc(cc2)-c2c[nH]cn2)c1F&quot;, &quot;mols2grid-id&quot;: 20, &quot;data-IC50-(nM)&quot;: 184.0, &quot;data-img&quot;: null}, {&quot;data-SMILES&quot;: &quot;Fc1cccc(CN(C(=O)Cc2cncc3ccccc23)c2ccc(cc2)-c2c[nH]cn2)c1&quot;, &quot;mols2grid-id&quot;: 21, &quot;data-IC50-(nM)&quot;: 351.0, &quot;data-img&quot;: null}, {&quot;data-SMILES&quot;: &quot;Fc1cc(F)cc(CN(C(=O)Cc2nnc3ccccn23)c2ccc(cc2)-c2c[nH]cn2)c1&quot;, &quot;mols2grid-id&quot;: 22, &quot;data-IC50-(nM)&quot;: 209.0, &quot;data-img&quot;: null}, {&quot;data-SMILES&quot;: &quot;Fc1cc(F)cc(CN(C(=O)Cc2cncc3ccccc23)c2ccc(cc2)-c2c[nH]cn2)c1&quot;, &quot;mols2grid-id&quot;: 23, &quot;data-IC50-(nM)&quot;: 53.0, &quot;data-img&quot;: null}, {&quot;data-SMILES&quot;: &quot;Fc1cc(Cl)cc(CN(C(=O)Cc2cncc3ccccc23)c2ccc(cn2)-c2c[nH]cn2)c1&quot;, &quot;mols2grid-id&quot;: 24, &quot;data-IC50-(nM)&quot;: 40.0, &quot;data-img&quot;: null}, {&quot;data-SMILES&quot;: &quot;CC(N(C(=O)Cc1cncc2ccccc12)c1ccc(cc1)-c1c[nH]cn1)c1cc(F)cc(F)c1&quot;, &quot;mols2grid-id&quot;: 25, &quot;data-IC50-(nM)&quot;: 114.0, &quot;data-img&quot;: null}, {&quot;data-SMILES&quot;: &quot;Fc1cc(F)cc(CN(C(=O)Cc2cccnn2)c2ccc(cc2)-c2c[nH]cn2)c1&quot;, &quot;mols2grid-id&quot;: 26, &quot;data-IC50-(nM)&quot;: 506.0, &quot;data-img&quot;: null}, {&quot;data-SMILES&quot;: &quot;Fc1cc(F)cc(CN(C(=O)Cc2cncc3ccccc23)c2ccc(cc2)N2CCNCC2=O)c1&quot;, &quot;mols2grid-id&quot;: 27, &quot;data-IC50-(nM)&quot;: 481.0, &quot;data-img&quot;: null}, {&quot;data-SMILES&quot;: &quot;Fc1cc(F)cc(CN(C(=O)Cc2cncc3ccccc23)c2ccc(cc2)N2CCNC(=O)C2)c1&quot;, &quot;mols2grid-id&quot;: 28, &quot;data-IC50-(nM)&quot;: 370.0, &quot;data-img&quot;: null}, {&quot;data-SMILES&quot;: &quot;Fc1cc(F)cc(CN(C(=O)Cc2cncc3ccccc23)c2ccc(cc2)C#N)c1&quot;, &quot;mols2grid-id&quot;: 29, &quot;data-IC50-(nM)&quot;: 1249.0, &quot;data-img&quot;: null}, {&quot;data-SMILES&quot;: &quot;FC(F)(F)c1cncc(CN(C(=O)Cc2cncc3ccccc23)c2ccc(cc2)-c2c[nH]cn2)c1&quot;, &quot;mols2grid-id&quot;: 30, &quot;data-IC50-(nM)&quot;: 82.0, &quot;data-img&quot;: null}, {&quot;data-SMILES&quot;: &quot;Fc1cncc(CN(C(=O)Cc2cncc3ccccc23)c2ccc(cc2)-c2c[nH]cn2)c1&quot;, &quot;mols2grid-id&quot;: 31, &quot;data-IC50-(nM)&quot;: 53.0, &quot;data-img&quot;: null}, {&quot;data-SMILES&quot;: &quot;Cc1ccc2nnc(CC(=O)N(Cc3cc(F)cc(F)c3)c3ccc(cc3)-c3c[nH]cn3)n2n1&quot;, &quot;mols2grid-id&quot;: 32, &quot;data-IC50-(nM)&quot;: 604.0, &quot;data-img&quot;: null}, {&quot;data-SMILES&quot;: &quot;Cc1ccc2nnc(CC(=O)N(Cc3cc(F)cc(Cl)c3)c3ccc(cc3)-c3c[nH]cn3)n2n1&quot;, &quot;mols2grid-id&quot;: 33, &quot;data-IC50-(nM)&quot;: 250.0, &quot;data-img&quot;: null}, {&quot;data-SMILES&quot;: &quot;Fc1cc(Cl)cc(CN(C(=O)Cc2cccnc2)c2ccc(cc2)-c2c[nH]cn2)c1&quot;, &quot;mols2grid-id&quot;: 34, &quot;data-IC50-(nM)&quot;: 188.0, &quot;data-img&quot;: null}, {&quot;data-SMILES&quot;: &quot;Clc1cccc(CN(C(=O)Cc2cccnc2)c2ccc(cc2)-c2c[nH]cn2)c1&quot;, &quot;mols2grid-id&quot;: 35, &quot;data-IC50-(nM)&quot;: 414.0, &quot;data-img&quot;: null}, {&quot;data-SMILES&quot;: &quot;CC(C)(C)CN(C(=O)Cc1cncc2ccccc12)c1ccc(cc1)-c1c[nH]cn1&quot;, &quot;mols2grid-id&quot;: 36, &quot;data-IC50-(nM)&quot;: 356.0, &quot;data-img&quot;: null}, {&quot;data-SMILES&quot;: &quot;CC(C)CN(C(=O)Cc1nnc2ccccn12)c1ccc(cc1)-c1c[nH]cn1&quot;, &quot;mols2grid-id&quot;: 37, &quot;data-IC50-(nM)&quot;: 8099.0, &quot;data-img&quot;: null}, {&quot;data-SMILES&quot;: &quot;Fc1cccc(CN(C(=O)Cc2nnc3ccccn23)c2ccc(cc2)-c2c[nH]cn2)c1&quot;, &quot;mols2grid-id&quot;: 38, &quot;data-IC50-(nM)&quot;: 621.0, &quot;data-img&quot;: null}, {&quot;data-SMILES&quot;: &quot;Fc1cc(Cl)cc(CN(C(=O)Cc2cncnc2)c2ccc(cc2)-c2c[nH]cn2)c1&quot;, &quot;mols2grid-id&quot;: 39, &quot;data-IC50-(nM)&quot;: 542.0, &quot;data-img&quot;: null}, {&quot;data-SMILES&quot;: &quot;Fc1cc(Cl)cc(CN(C(=O)Cc2noc3ccccc23)c2ccc(cc2)-c2c[nH]cn2)c1&quot;, &quot;mols2grid-id&quot;: 40, &quot;data-IC50-(nM)&quot;: 839.0, &quot;data-img&quot;: null}, {&quot;data-SMILES&quot;: &quot;Fc1cc(Cl)cc(CN(C(=O)CC2NC(=O)c3ccccc23)c2ccc(cc2)-c2c[nH]cn2)c1&quot;, &quot;mols2grid-id&quot;: 41, &quot;data-IC50-(nM)&quot;: 30840.0, &quot;data-img&quot;: null}, {&quot;data-SMILES&quot;: &quot;NC(=O)c1ccc(cc1)N(Cc1cc(F)cc(F)c1)C(=O)Cc1cncc2ccccc12&quot;, &quot;mols2grid-id&quot;: 42, &quot;data-IC50-(nM)&quot;: 100.0, &quot;data-img&quot;: null}, {&quot;data-SMILES&quot;: &quot;Fc1cc(Cl)cc(CN(C(=O)Cc2cccnn2)c2ccc(cc2)-c2c[nH]cn2)c1&quot;, &quot;mols2grid-id&quot;: 43, &quot;data-IC50-(nM)&quot;: 389.0, &quot;data-img&quot;: null}, {&quot;data-SMILES&quot;: &quot;COc1ccc(F)cc1CN(C(=O)Cc1cncc2ccccc12)c1ccc(cc1)-c1c[nH]cn1&quot;, &quot;mols2grid-id&quot;: 44, &quot;data-IC50-(nM)&quot;: 179.0, &quot;data-img&quot;: null}, {&quot;data-SMILES&quot;: &quot;COc1cc(F)cc(CN(C(=O)Cc2cncc3ccccc23)c2ccc(cc2)-c2c[nH]cn2)c1&quot;, &quot;mols2grid-id&quot;: 45, &quot;data-IC50-(nM)&quot;: 90.0, &quot;data-img&quot;: null}, {&quot;data-SMILES&quot;: &quot;Fc1cc(Cl)cc(CN(C(=O)Cc2cnccn2)c2ccc(cc2)-c2c[nH]cn2)c1&quot;, &quot;mols2grid-id&quot;: 46, &quot;data-IC50-(nM)&quot;: 2038.0, &quot;data-img&quot;: null}, {&quot;data-SMILES&quot;: &quot;Fc1cc(F)cc(CN(C(=O)Cc2cncc3ccccc23)c2ccc(cc2)C2=CCNC2)c1&quot;, &quot;mols2grid-id&quot;: 47, &quot;data-IC50-(nM)&quot;: 139.0, &quot;data-img&quot;: null}, {&quot;data-SMILES&quot;: &quot;Fc1cc(Cl)cc(CN(C(=O)Cc2cncc3ccccc23)c2ccc(cc2)C2=CCNC2)c1&quot;, &quot;mols2grid-id&quot;: 48, &quot;data-IC50-(nM)&quot;: 81.0, &quot;data-img&quot;: null}, {&quot;data-SMILES&quot;: &quot;Fc1cc(CN(C(=O)Cc2cncc3ccccc23)c2ccc(cc2)-c2c[nH]cn2)ccc1Cl&quot;, &quot;mols2grid-id&quot;: 49, &quot;data-IC50-(nM)&quot;: 1087.0, &quot;data-img&quot;: null}, {&quot;data-SMILES&quot;: &quot;Fc1cc(Cl)cc(CN(C(=O)CC2C(=O)Nc3ccccc23)c2ccc(cc2)-c2c[nH]cn2)c1&quot;, &quot;mols2grid-id&quot;: 50, &quot;data-IC50-(nM)&quot;: 6235.0, &quot;data-img&quot;: null}, {&quot;data-SMILES&quot;: &quot;Fc1cncc(CN(C(=O)Cc2cncc3ccccc23)c2ccc(cc2)C2CNC2)c1&quot;, &quot;mols2grid-id&quot;: 51, &quot;data-IC50-(nM)&quot;: 193.0, &quot;data-img&quot;: null}, {&quot;data-SMILES&quot;: &quot;Fc1cc(CN(C(=O)Cc2cncc3ccccc23)c2ccc(cc2)-c2c[nH]cn2)cc(OC(F)(F)F)c1&quot;, &quot;mols2grid-id&quot;: 52, &quot;data-IC50-(nM)&quot;: 113.0, &quot;data-img&quot;: null}, {&quot;data-SMILES&quot;: &quot;Fc1cc(F)cc(CN(C(=O)Cc2cncc3ccccc23)c2ccc(cc2)C2CNC2)c1&quot;, &quot;mols2grid-id&quot;: 53, &quot;data-IC50-(nM)&quot;: 69.0, &quot;data-img&quot;: null}, {&quot;data-SMILES&quot;: &quot;CC(C)(C)NC(=O)C(N(C(=O)Cc1cncc2ccccc12)c1ccc(cc1)C1=CCNC1)c1cc(F)cc(F)c1&quot;, &quot;mols2grid-id&quot;: 54, &quot;data-IC50-(nM)&quot;: 1027.0, &quot;data-img&quot;: null}, {&quot;data-SMILES&quot;: &quot;CC(C)(C)NC(=O)C(N(C(=O)Cc1cncc2ccccc12)c1ccc(cc1)-c1c[nH]cn1)c1cc(F)cc(F)c1&quot;, &quot;mols2grid-id&quot;: 55, &quot;data-IC50-(nM)&quot;: 231.0, &quot;data-img&quot;: null}, {&quot;data-SMILES&quot;: &quot;Fc1cc(F)cc(CN(C(=O)Cc2cncc(Br)c2)c2ccc(cc2)-c2c[nH]cn2)c1&quot;, &quot;mols2grid-id&quot;: 56, &quot;data-IC50-(nM)&quot;: 187.0, &quot;data-img&quot;: null}, {&quot;data-SMILES&quot;: &quot;Cc1cncc(CC(=O)N(Cc2cc(F)cc(F)c2)c2ccc(cc2)-c2c[nH]cn2)c1&quot;, &quot;mols2grid-id&quot;: 57, &quot;data-IC50-(nM)&quot;: 103.0, &quot;data-img&quot;: null}, {&quot;data-SMILES&quot;: &quot;Fc1cc(F)cc(CN(C(=O)Cc2cncc(c2)C2CC2)c2ccc(cc2)-c2c[nH]cn2)c1&quot;, &quot;mols2grid-id&quot;: 58, &quot;data-IC50-(nM)&quot;: 161.0, &quot;data-img&quot;: null}, {&quot;data-SMILES&quot;: &quot;Fc1cncc(CN(C(=O)Cc2cncc3ccccc23)c2ccc(cc2)C2=CCNC2)c1&quot;, &quot;mols2grid-id&quot;: 59, &quot;data-IC50-(nM)&quot;: 608.0, &quot;data-img&quot;: null}, {&quot;data-SMILES&quot;: &quot;Fc1cncc(CC(=O)N(Cc2cc(F)cc(Cl)c2)c2ccc(cc2)-c2c[nH]cn2)c1&quot;, &quot;mols2grid-id&quot;: 60, &quot;data-IC50-(nM)&quot;: 220.0, &quot;data-img&quot;: null}, {&quot;data-SMILES&quot;: &quot;Cc1cncc(CC(=O)N(Cc2cc(F)cc(Cl)c2)c2ccc(cc2)-c2c[nH]cn2)c1&quot;, &quot;mols2grid-id&quot;: 61, &quot;data-IC50-(nM)&quot;: 84.0, &quot;data-img&quot;: null}, {&quot;data-SMILES&quot;: &quot;Fc1cc(Cl)cc(CN(C(=O)Cc2cncc(c2)C2CC2)c2ccc(cc2)-c2c[nH]cn2)c1&quot;, &quot;mols2grid-id&quot;: 62, &quot;data-IC50-(nM)&quot;: 115.0, &quot;data-img&quot;: null}, {&quot;data-SMILES&quot;: &quot;Fc1cc(Cl)cc(CN(C(=O)Cc2cncc3ccccc23)c2ccc(cc2)C2CNC2)c1&quot;, &quot;mols2grid-id&quot;: 63, &quot;data-IC50-(nM)&quot;: 56.0, &quot;data-img&quot;: null}, {&quot;data-SMILES&quot;: &quot;Fc1cc(Cl)cc(CN(C(=O)Cc2nncc3ccccc23)c2ccc(cc2)-c2c[nH]cn2)c1&quot;, &quot;mols2grid-id&quot;: 64, &quot;data-IC50-(nM)&quot;: 61.0, &quot;data-img&quot;: null}, {&quot;data-SMILES&quot;: &quot;NCc1ccc(cc1)N(Cc1cc(F)cc(F)c1)C(=O)Cc1cncc2ccccc12&quot;, &quot;mols2grid-id&quot;: 65, &quot;data-IC50-(nM)&quot;: 76.0, &quot;data-img&quot;: null}, {&quot;data-SMILES&quot;: &quot;Fc1cc(Cl)cc(CN(C(=O)Cc2cnccc2C(F)(F)F)c2ccc(cc2)-c2c[nH]cn2)c1&quot;, &quot;mols2grid-id&quot;: 66, &quot;data-IC50-(nM)&quot;: 1001.0, &quot;data-img&quot;: null}, {&quot;data-SMILES&quot;: &quot;Fc1cc(Cl)cc(CN(C(=O)Cc2cnccc2Cl)c2ccc(cc2)-c2c[nH]cn2)c1&quot;, &quot;mols2grid-id&quot;: 67, &quot;data-IC50-(nM)&quot;: 311.0, &quot;data-img&quot;: null}, {&quot;data-SMILES&quot;: &quot;Cc1ccncc1CC(=O)N(Cc1cc(F)cc(Cl)c1)c1ccc(cc1)-c1c[nH]cn1&quot;, &quot;mols2grid-id&quot;: 68, &quot;data-IC50-(nM)&quot;: 136.0, &quot;data-img&quot;: null}, {&quot;data-SMILES&quot;: &quot;COc1ccncc1CC(=O)N(Cc1cc(F)cc(Cl)c1)c1ccc(cc1)-c1c[nH]cn1&quot;, &quot;mols2grid-id&quot;: 69, &quot;data-IC50-(nM)&quot;: 222.0, &quot;data-img&quot;: null}, {&quot;data-SMILES&quot;: &quot;Fc1cc(Cl)cc(CN(C(=O)Cc2cncc(c2)C2CC2)c2ccc(cc2)C2CNC2)c1&quot;, &quot;mols2grid-id&quot;: 70, &quot;data-IC50-(nM)&quot;: 112.0, &quot;data-img&quot;: null}, {&quot;data-SMILES&quot;: &quot;Cc1cncc(CC(=O)N(Cc2cc(F)cc(Cl)c2)c2ccc(cc2)C2CNC2)c1&quot;, &quot;mols2grid-id&quot;: 71, &quot;data-IC50-(nM)&quot;: 110.0, &quot;data-img&quot;: null}, {&quot;data-SMILES&quot;: &quot;Fc1cncc(CN(C(=O)Cc2cncc(F)c2)c2ccc(cc2)-c2c[nH]cn2)c1&quot;, &quot;mols2grid-id&quot;: 72, &quot;data-IC50-(nM)&quot;: 1309.0, &quot;data-img&quot;: null}, {&quot;data-SMILES&quot;: &quot;Fc1cc(Cl)cc(CN(C(=O)Cc2nncc3ccccc23)c2ccc(cc2)C2CNC2)c1&quot;, &quot;mols2grid-id&quot;: 73, &quot;data-IC50-(nM)&quot;: 70.0, &quot;data-img&quot;: null}, {&quot;data-SMILES&quot;: &quot;Fc1cncc(CN(C(=O)Cc2cncc(F)c2)c2ccc(cc2)C2CNC2)c1&quot;, &quot;mols2grid-id&quot;: 74, &quot;data-IC50-(nM)&quot;: 5225.0, &quot;data-img&quot;: null}]);\n",
       "// filter\n",
       "if (window.parent.mols2grid_lists === undefined) {\n",
       "    window.parent.mols2grid_lists = {};\n",
       "}\n",
       "window.parent.mols2grid_lists[&quot;default&quot;] = listObj;\n",
       "\n",
       "\n",
       "// selection\n",
       "class MolStorage extends Map {\n",
       "    multi_set(_id, _smiles) {\n",
       "        for (let i=0; i &lt; _id.length; i++) {\n",
       "            this.set(_id[i], _smiles[i]);\n",
       "        }\n",
       "    }\n",
       "    multi_del(_id) {\n",
       "        for (let i=0; i &lt; _id.length; i++) {\n",
       "            this.delete(_id[i]);\n",
       "        };\n",
       "    }\n",
       "    to_dict() {\n",
       "        var content = &quot;{&quot;;\n",
       "        for (let [key, value] of this) {\n",
       "            content += key + &quot;:&quot; + JSON.stringify(value) + &quot;,&quot;;\n",
       "        }\n",
       "        content = content.length &gt; 1 ? content.slice(0, -1) : content;\n",
       "        content += &quot;}&quot;;\n",
       "        return content\n",
       "    }\n",
       "    download_smi(fileName) {\n",
       "        var content = &quot;SMILES index\\n&quot;;\n",
       "        for (let [key, value] of this) {\n",
       "            content += value + &quot; &quot; + key + &quot;\\n&quot;;\n",
       "        }\n",
       "        var a = document.createElement(&quot;a&quot;);\n",
       "        var file = new Blob([content], {type: &quot;text/plain&quot;});\n",
       "        a.href = URL.createObjectURL(file);\n",
       "        a.download = fileName;\n",
       "        a.click();\n",
       "        a.remove();\n",
       "    }\n",
       "}\n",
       "var SELECTION = new MolStorage();\n",
       "\n",
       "\n",
       "\n",
       "// kernel\n",
       "var kernel_env = null;\n",
       "if (window.parent.IPython !== undefined) {\n",
       "    // Jupyter notebook\n",
       "    kernel_env = &quot;jupyter&quot;;\n",
       "    var kernel = window.parent.IPython.notebook.kernel;\n",
       "    kernel.execute(&#x27;from mols2grid.select import register as _m2g_reg&#x27;)\n",
       "    function add_selection(grid_id, _id, smiles) {\n",
       "        SELECTION.multi_set(_id, smiles);\n",
       "        kernel.execute(&quot;_m2g_reg.add_selection(&#x27;&quot;+grid_id+&quot;&#x27;, &quot;+JSON.stringify(_id)+&quot;,&quot;+JSON.stringify(smiles)+&quot;)&quot;);\n",
       "    }\n",
       "    function del_selection(grid_id, _id) {\n",
       "        SELECTION.multi_del(_id);\n",
       "        kernel.execute(&quot;_m2g_reg.del_selection(&#x27;&quot;+grid_id+&quot;&#x27;, &quot;+JSON.stringify(_id)+&quot;)&quot;);\n",
       "    }\n",
       "} else if (window.parent.google !== undefined) {\n",
       "    // Google colab\n",
       "    kernel_env = &quot;colab&quot;;\n",
       "    var kernel = window.parent.google.colab.kernel;\n",
       "    function add_selection(grid_id, _id, smiles) {\n",
       "        SELECTION.multi_set(_id, smiles);\n",
       "        (async function() {\n",
       "        const result = await kernel.invokeFunction(&#x27;_m2g_reg.add_selection&#x27;,\n",
       "                                                   [grid_id, _id, smiles], {});\n",
       "        })();\n",
       "    }\n",
       "    function del_selection(grid_id, _id) {\n",
       "        SELECTION.multi_del(_id);\n",
       "        (async function() {\n",
       "        const result = await kernel.invokeFunction(&#x27;_m2g_reg.del_selection&#x27;,\n",
       "                                                   [grid_id, _id], {});\n",
       "        })();\n",
       "    }\n",
       "} else {\n",
       "    function add_selection(grid_id, _id, smiles) {\n",
       "        SELECTION.multi_set(_id, smiles);\n",
       "    }\n",
       "    function del_selection(grid_id, _id) {\n",
       "        SELECTION.multi_del(_id);\n",
       "    }\n",
       "}\n",
       "\n",
       "\n",
       "\n",
       "\n",
       "// sort\n",
       "var sort_field = &quot;mols2grid-id&quot;;\n",
       "var sort_order = &quot;asc&quot;;\n",
       "function mols2gridSortFunction(itemA, itemB, options) {\n",
       "    var x = itemA.values()[options.valueName];\n",
       "    var y = itemB.values()[options.valueName];\n",
       "    if (typeof x === &quot;number&quot;) {\n",
       "        if (isFinite(x - y)) {\n",
       "            return x - y; \n",
       "        } else {\n",
       "            return isFinite(x) ? -1 : 1;\n",
       "        }\n",
       "    } else {\n",
       "        x = x.toLowerCase();\n",
       "        y = y.toLowerCase();\n",
       "        return (x &lt; y) ? -1: (x &gt; y) ? 1: 0;\n",
       "    }\n",
       "}\n",
       "function checkboxSort(itemA, itemB, options) {\n",
       "    if (itemA.elm !== undefined) {\n",
       "        var checkedA = itemA.elm.firstChild.checked;\n",
       "        if (itemB.elm !== undefined) {\n",
       "            var checkedB = itemB.elm.firstChild.checked;\n",
       "            if (checkedA &amp;&amp; !checkedB) {\n",
       "                return -1;\n",
       "            } else if (!checkedA &amp;&amp; checkedB) {\n",
       "                return 1;\n",
       "            } else {\n",
       "                return 0;\n",
       "            }\n",
       "        } else {\n",
       "            return -1;\n",
       "        }\n",
       "    } else if (itemB.elm !== undefined) {\n",
       "        return 1;\n",
       "    } else {\n",
       "        return 0;\n",
       "    }\n",
       "}\n",
       "$(&#x27;#mols2grid button.sort-btn&#x27;).click(function(e) {\n",
       "    var _field = $(this).attr(&quot;data-name&quot;);\n",
       "    if (_field == sort_field) {\n",
       "        $(this).removeClass(&quot;arrow-&quot; + sort_order)\n",
       "        sort_order = (sort_order === &quot;desc&quot;) ? &quot;asc&quot; : &quot;desc&quot;;\n",
       "    } else {\n",
       "        $(&#x27;#mols2grid button.sort-btn.active&#x27;).removeClass(&quot;active arrow-&quot; + sort_order);\n",
       "        sort_order = &quot;asc&quot;;\n",
       "        sort_field = _field;\n",
       "        $(this).addClass(&quot;active&quot;);\n",
       "    }\n",
       "    $(this).addClass(&quot;arrow-&quot; + sort_order)\n",
       "    if (sort_field == &quot;checkbox&quot;) {\n",
       "        listObj.sort(&quot;mols2grid-id&quot;, {order: sort_order, sortFunction: checkboxSort});\n",
       "    } else {\n",
       "        listObj.sort(_field, {order: sort_order, sortFunction: mols2gridSortFunction});\n",
       "    }\n",
       "});\n",
       "\n",
       "\n",
       "\n",
       "\n",
       "\n",
       "\n",
       "// selection modifyers and export options\n",
       "// check all\n",
       "$(&#x27;#btn-chkbox-all&#x27;).click(function (e) {\n",
       "    var _id = [];\n",
       "    var _smiles = [];\n",
       "    listObj.items.forEach(function (item) {\n",
       "        if (item.elm) {\n",
       "            item.elm.getElementsByTagName(&quot;input&quot;)[0].checked = true;\n",
       "        } else {\n",
       "            item.show()\n",
       "            item.elm.getElementsByTagName(&quot;input&quot;)[0].checked = true;\n",
       "            item.hide()\n",
       "        }\n",
       "        _id.push(item.values()[&quot;mols2grid-id&quot;]);\n",
       "        _smiles.push(item.values()[&quot;data-SMILES&quot;]);\n",
       "    });\n",
       "    add_selection(&quot;default&quot;, _id, _smiles);\n",
       "});\n",
       "// check matching\n",
       "$(&#x27;#btn-chkbox-match&#x27;).click(function (e) {\n",
       "    var _id = [];\n",
       "    var _smiles = [];\n",
       "    listObj.matchingItems.forEach(function (item) {\n",
       "        if (item.elm) {\n",
       "            item.elm.getElementsByTagName(&quot;input&quot;)[0].checked = true;\n",
       "        } else {\n",
       "            item.show()\n",
       "            item.elm.getElementsByTagName(&quot;input&quot;)[0].checked = true;\n",
       "            item.hide()\n",
       "        }\n",
       "        _id.push(item.values()[&quot;mols2grid-id&quot;]);\n",
       "        _smiles.push(item.values()[&quot;data-SMILES&quot;]);\n",
       "    });\n",
       "    add_selection(&quot;default&quot;, _id, _smiles);\n",
       "});\n",
       "// uncheck all\n",
       "$(&#x27;#btn-chkbox-none&#x27;).click(function (e) {\n",
       "    var _id = [];\n",
       "    listObj.items.forEach(function (item) {\n",
       "        if (item.elm) {\n",
       "            item.elm.getElementsByTagName(&quot;input&quot;)[0].checked = false;\n",
       "        } else {\n",
       "            item.show()\n",
       "            item.elm.getElementsByTagName(&quot;input&quot;)[0].checked = false;\n",
       "            item.hide()\n",
       "        }\n",
       "        _id.push(item.values()[&quot;mols2grid-id&quot;]);\n",
       "    });\n",
       "    del_selection(&quot;default&quot;, _id);\n",
       "});\n",
       "// invert\n",
       "$(&#x27;#btn-chkbox-invert&#x27;).click(function (e) {\n",
       "    var _id_add = [];\n",
       "    var _id_del = [];\n",
       "    var _smiles = [];\n",
       "    listObj.items.forEach(function (item) {\n",
       "        if (item.elm) {\n",
       "            var chkbox = item.elm.getElementsByTagName(&quot;input&quot;)[0]\n",
       "            chkbox.checked = !chkbox.checked;\n",
       "        } else {\n",
       "            item.show()\n",
       "            var chkbox = item.elm.getElementsByTagName(&quot;input&quot;)[0]\n",
       "            chkbox.checked = !chkbox.checked;\n",
       "            item.hide()\n",
       "        }\n",
       "        if (chkbox.checked) {\n",
       "            _id_add.push(item.values()[&quot;mols2grid-id&quot;]);\n",
       "            _smiles.push(item.values()[&quot;data-SMILES&quot;]);\n",
       "        } else {\n",
       "            _id_del.push(item.values()[&quot;mols2grid-id&quot;]);\n",
       "        }\n",
       "    });\n",
       "    del_selection(&quot;default&quot;, _id_del);\n",
       "    add_selection(&quot;default&quot;, _id_add, _smiles);\n",
       "});\n",
       "// copy to clipboard\n",
       "$(&quot;#btn-chkbox-copy&quot;).click(function(e) {\n",
       "    navigator.clipboard.writeText(SELECTION.to_dict());\n",
       "});\n",
       "// export smiles\n",
       "$(&quot;#btn-chkbox-dlsmi&quot;).click(function(e) {\n",
       "    SELECTION.download_smi(&quot;selection.smi&quot;);\n",
       "});\n",
       "// export CSV\n",
       "$(&quot;#btn-chkbox-dlcsv&quot;).click(function(e) {\n",
       "    var sep = &quot;\\t&quot;\n",
       "    // same order as subset + tooltip\n",
       "    var columns = Array.from(listObj.items[0].elm.querySelectorAll(&quot;div.data&quot;))\n",
       "                       .map(elm =&gt; elm.classList[1]);\n",
       "    // remove &#x27;data-&#x27;\n",
       "    var header = columns.map(name =&gt; name.slice(5));\n",
       "    // csv content\n",
       "    header = [&quot;index&quot;].concat(header).join(sep);\n",
       "    var content = header + &quot;\\n&quot;;\n",
       "    for (let [index, smiles] of SELECTION.entries()) {\n",
       "        var data = listObj.items[index].values();\n",
       "        content += index;\n",
       "        columns.forEach((key) =&gt; {\n",
       "            content += sep + data[key];\n",
       "        })\n",
       "        content += &quot;\\n&quot;;\n",
       "    }\n",
       "    var a = document.createElement(&quot;a&quot;);\n",
       "    var file = new Blob([content], {type: &quot;text/csv&quot;});\n",
       "    a.href = URL.createObjectURL(file);\n",
       "    a.download = &quot;selection.csv&quot;;\n",
       "    a.click();\n",
       "    a.remove();\n",
       "});\n",
       "// update selection on checkbox click\n",
       "listObj.on(&quot;updated&quot;, function (list) {\n",
       "    $(&quot;input:checkbox&quot;).change(function() {\n",
       "        var _id = parseInt($(this).closest(&quot;.cell&quot;).attr(&quot;data-mols2grid-id&quot;));\n",
       "        if (this.checked) {\n",
       "            var _smiles = $($(this).siblings(&quot;.data-SMILES&quot;)[0]).text();\n",
       "            add_selection(&quot;default&quot;, [_id], [_smiles]);\n",
       "        } else {\n",
       "            del_selection(&quot;default&quot;, [_id]);\n",
       "        }\n",
       "    }); \n",
       "});\n",
       "\n",
       "\n",
       "\n",
       "\n",
       "\n",
       "// generate images for the currently displayed molecules\n",
       "var draw_opts = {&quot;width&quot;: 160, &quot;height&quot;: 120};\n",
       "var json_draw_opts = JSON.stringify(draw_opts);\n",
       "\n",
       "var smarts_matches = {};\n",
       "\n",
       "// Load RDKit\n",
       "window\n",
       ".initRDKitModule()\n",
       ".then(function(RDKit) {\n",
       "    console.log(&#x27;RDKit version: &#x27;, RDKit.version());\n",
       "    window.RDKit = RDKit;\n",
       "    window.RDKitModule = RDKit;\n",
       "\n",
       "    // search bar\n",
       "    function SmartsSearch(query, columns) {\n",
       "    var smiles_col = columns[0];\n",
       "    smarts_matches = {};\n",
       "    var query = $(&#x27;#mols2grid #searchbar&#x27;).val();\n",
       "    var qmol = RDKit.get_qmol(query);\n",
       "    if (qmol.is_valid()) {\n",
       "        listObj.items.forEach(function (item) {\n",
       "            var smiles = item.values()[smiles_col]\n",
       "            var mol = RDKit.get_mol(smiles, &#x27;{&quot;removeHs&quot;: false }&#x27;);\n",
       "            if (mol.is_valid()) {\n",
       "                var results = mol.get_substruct_matches(qmol);\n",
       "                if (results === &quot;\\{\\}&quot;) {\n",
       "                    item.found = false;\n",
       "                } else {\n",
       "                    item.found = true;\n",
       "                    \n",
       "                    results = JSON.parse(results);\n",
       "                    \n",
       "                    var highlights = {&quot;atoms&quot;: [], &quot;bonds&quot;: []};\n",
       "                    results.forEach(function (match) {\n",
       "                        highlights[&quot;atoms&quot;].push(...match.atoms)\n",
       "                        highlights[&quot;bonds&quot;].push(...match.bonds)\n",
       "                    });\n",
       "                    \n",
       "                    var index = item.values()[&quot;mols2grid-id&quot;];\n",
       "                    smarts_matches[index] = highlights;\n",
       "                    \n",
       "                }\n",
       "            } else {\n",
       "                item.found = false;\n",
       "            }\n",
       "            mol.delete();\n",
       "        });\n",
       "    }\n",
       "    qmol.delete();\n",
       "}\n",
       "var search_type = &quot;Text&quot;;\n",
       "$(&#x27;#mols2grid .search-btn&#x27;).click(function() {\n",
       "    search_type = $(this).text();\n",
       "    $(&#x27;#mols2grid button.search-btn.active&#x27;).removeClass(&quot;active&quot;);\n",
       "    $(this).addClass(&quot;active&quot;);\n",
       "});\n",
       "$(&#x27;#mols2grid #searchbar&#x27;).on(&quot;keyup&quot;, function(e) {\n",
       "    var query = e.target.value;\n",
       "    if (search_type === &quot;Text&quot;) {\n",
       "        smarts_matches = {};\n",
       "        listObj.search(query, [&#x27;data-IC50-(nM)&#x27;]);\n",
       "    } else {\n",
       "        listObj.search(query, [&quot;data-SMILES&quot;], SmartsSearch);\n",
       "    }\n",
       "});\n",
       "\n",
       "    \n",
       "    // generate images for the currently displayed molecules\n",
       "RDKit.prefer_coordgen(true);\n",
       "function draw_mol(smiles, index, template_mol) {\n",
       "    var mol = RDKit.get_mol(smiles, &#x27;{&quot;removeHs&quot;: false }&#x27;);\n",
       "    var svg = &quot;&quot;;\n",
       "    if (mol.is_valid()) {\n",
       "        var highlights = smarts_matches[index];\n",
       "        if (highlights) {\n",
       "            var details = Object.assign({}, draw_opts, highlights);\n",
       "            details = JSON.stringify(details);\n",
       "            mol.generate_aligned_coords(template_mol, true);\n",
       "        } else {\n",
       "            var details = json_draw_opts;\n",
       "        }\n",
       "        svg = mol.get_svg_with_highlights(details);\n",
       "    }\n",
       "    mol.delete();\n",
       "    if (svg == &quot;&quot;) {\n",
       "        return &#x27;&lt;svg width=&quot;160&quot; height=&quot;120&quot; xmlns=&quot;http://www.w3.org/2000/svg&quot; version=&quot;1.1&quot; viewBox=&quot;0 0 160 120&quot;&gt;&lt;/svg&gt;&#x27;;\n",
       "    }\n",
       "    return svg;\n",
       "}\n",
       "listObj.on(&quot;updated&quot;, function (list) {\n",
       "    var query = $(&#x27;#mols2grid #searchbar&#x27;).val();\n",
       "    var template_mol;\n",
       "    if (query === &quot;&quot;) {\n",
       "        smarts_matches = {};\n",
       "        template_mol = null;\n",
       "    } else {\n",
       "        template_mol = RDKit.get_qmol(query);\n",
       "        template_mol.set_new_coords(true);\n",
       "    }\n",
       "    $(&#x27;#mols2grid .cell&#x27;).each(function() {\n",
       "        var $t = $(this);\n",
       "        var smiles = $t.children(&quot;.data-SMILES&quot;).first().text();\n",
       "        var index = parseInt(this.getAttribute(&quot;data-mols2grid-id&quot;));\n",
       "        var svg = draw_mol(smiles, index, template_mol);\n",
       "        $t.children(&quot;.data-img&quot;).html(svg);\n",
       "    });\n",
       "    if (template_mol) {\n",
       "        template_mol.delete();\n",
       "    }\n",
       "});\n",
       "    \n",
       "\n",
       "    // trigger update to activate tooltips, draw images, setup callbacks...\n",
       "    listObj.update();\n",
       "    // resize iframe to fit content\n",
       "    if (window.frameElement) {\n",
       "        window.parent.fit_height(window.frameElement);\n",
       "    }\n",
       "});\n",
       "    &lt;/script&gt;\n",
       "  &lt;/body&gt;\n",
       "&lt;/html&gt;\">\n",
       "</iframe>"
      ],
      "text/plain": [
       "<IPython.core.display.HTML object>"
      ]
     },
     "execution_count": 6,
     "metadata": {},
     "output_type": "execute_result"
    }
   ],
   "source": [
    "mols2grid.display(df, smiles_col = \"SMILES\", subset = [\"img\", \"IC50 (nM)\"])"
   ]
  },
  {
   "cell_type": "code",
   "execution_count": 7,
   "id": "6c72ea4a-a77c-4d1b-8d0e-4a4e322bcf27",
   "metadata": {},
   "outputs": [
    {
     "data": {
      "text/html": [
       "<div>\n",
       "<style scoped>\n",
       "    .dataframe tbody tr th:only-of-type {\n",
       "        vertical-align: middle;\n",
       "    }\n",
       "\n",
       "    .dataframe tbody tr th {\n",
       "        vertical-align: top;\n",
       "    }\n",
       "\n",
       "    .dataframe thead th {\n",
       "        text-align: right;\n",
       "    }\n",
       "</style>\n",
       "<table border=\"1\" class=\"dataframe\">\n",
       "  <thead>\n",
       "    <tr style=\"text-align: right;\">\n",
       "      <th></th>\n",
       "      <th>Name</th>\n",
       "      <th>SMILES</th>\n",
       "      <th>IC50 (nM)</th>\n",
       "    </tr>\n",
       "  </thead>\n",
       "  <tbody>\n",
       "    <tr>\n",
       "      <th>9</th>\n",
       "      <td>US20240293380, Compound 12</td>\n",
       "      <td>Fc1cc(Cl)cc(CN(C(=O)Cc2cncc3ccccc23)c2ccc(cc2)...</td>\n",
       "      <td>15.0</td>\n",
       "    </tr>\n",
       "    <tr>\n",
       "      <th>1</th>\n",
       "      <td>US20240293380, Compound 2</td>\n",
       "      <td>Clc1cccc(CN(C(=O)Cc2cncc3ccccc23)c2ccc(cc2)-c2...</td>\n",
       "      <td>30.0</td>\n",
       "    </tr>\n",
       "    <tr>\n",
       "      <th>24</th>\n",
       "      <td>US20240293380, Compound 29</td>\n",
       "      <td>Fc1cc(Cl)cc(CN(C(=O)Cc2cncc3ccccc23)c2ccc(cn2)...</td>\n",
       "      <td>40.0</td>\n",
       "    </tr>\n",
       "    <tr>\n",
       "      <th>23</th>\n",
       "      <td>US20240293380, Compound 28</td>\n",
       "      <td>Fc1cc(F)cc(CN(C(=O)Cc2cncc3ccccc23)c2ccc(cc2)-...</td>\n",
       "      <td>53.0</td>\n",
       "    </tr>\n",
       "    <tr>\n",
       "      <th>31</th>\n",
       "      <td>US20240293380, Compound 40</td>\n",
       "      <td>Fc1cncc(CN(C(=O)Cc2cncc3ccccc23)c2ccc(cc2)-c2c...</td>\n",
       "      <td>53.0</td>\n",
       "    </tr>\n",
       "  </tbody>\n",
       "</table>\n",
       "</div>"
      ],
      "text/plain": [
       "                          Name  \\\n",
       "9   US20240293380, Compound 12   \n",
       "1    US20240293380, Compound 2   \n",
       "24  US20240293380, Compound 29   \n",
       "23  US20240293380, Compound 28   \n",
       "31  US20240293380, Compound 40   \n",
       "\n",
       "                                               SMILES  IC50 (nM)  \n",
       "9   Fc1cc(Cl)cc(CN(C(=O)Cc2cncc3ccccc23)c2ccc(cc2)...       15.0  \n",
       "1   Clc1cccc(CN(C(=O)Cc2cncc3ccccc23)c2ccc(cc2)-c2...       30.0  \n",
       "24  Fc1cc(Cl)cc(CN(C(=O)Cc2cncc3ccccc23)c2ccc(cn2)...       40.0  \n",
       "23  Fc1cc(F)cc(CN(C(=O)Cc2cncc3ccccc23)c2ccc(cc2)-...       53.0  \n",
       "31  Fc1cncc(CN(C(=O)Cc2cncc3ccccc23)c2ccc(cc2)-c2c...       53.0  "
      ]
     },
     "execution_count": 7,
     "metadata": {},
     "output_type": "execute_result"
    }
   ],
   "source": [
    "my_df = df[[\"Name\", \"SMILES\", \"IC50 (nM)\"]]\n",
    "my_df_sorted = my_df.sort_values(by = \"IC50 (nM)\")\n",
    "my_df_sorted.head()"
   ]
  },
  {
   "cell_type": "code",
   "execution_count": 8,
   "id": "e087d5dc-84f7-4ae6-8c44-bd775e564c1e",
   "metadata": {},
   "outputs": [],
   "source": [
    "sns.set(rc={'figure.figsize': (5,5 )})\n",
    "sns.set_style('whitegrid')\n",
    "sns.set_context('notebook')"
   ]
  },
  {
   "cell_type": "markdown",
   "id": "8a85799a-7435-41e7-9fc2-117cce3d5f30",
   "metadata": {},
   "source": [
    "Let's look at the the IC50 distribution for the 75 compounds. As we can see below, the default view isn't very helpful."
   ]
  },
  {
   "cell_type": "code",
   "execution_count": 9,
   "id": "dc8384d1-5bf9-4f04-9088-a65f36d77262",
   "metadata": {},
   "outputs": [
    {
     "data": {
      "image/png": "[encoded data removed]",
      "text/plain": [
       "<Figure size 500x500 with 1 Axes>"
      ]
     },
     "metadata": {},
     "output_type": "display_data"
    }
   ],
   "source": [
    "ax = sns.histplot(my_df_sorted[\"IC50 (nM)\"])"
   ]
  },
  {
   "cell_type": "markdown",
   "id": "401982f3-336d-494b-8800-4ecfcbc8aa02",
   "metadata": {},
   "source": [
    "It's oftent easier to look at the distribution of pIC50 values, where pIC50 is the negative log of the IC50."
   ]
  },
  {
   "cell_type": "code",
   "execution_count": 10,
   "id": "07697038-0a85-4004-8573-77e74b23a225",
   "metadata": {},
   "outputs": [],
   "source": [
    "df[\"pIC50\"] = -np.log10(my_df_sorted[\"IC50 (nM)\"] * 1e-9)"
   ]
  },
  {
   "cell_type": "code",
   "execution_count": 11,
   "id": "62909f6d-1263-4db6-93ce-e46a06d252e3",
   "metadata": {},
   "outputs": [
    {
     "data": {
      "image/png": "[encoded data removed]",
      "text/plain": [
       "<Figure size 500x500 with 1 Axes>"
      ]
     },
     "metadata": {},
     "output_type": "display_data"
    }
   ],
   "source": [
    "ax = sns.histplot(df.pIC50)"
   ]
  },
  {
   "cell_type": "code",
   "execution_count": 12,
   "id": "d71e9b60-7bbd-4087-bb28-cccdc35d1faf",
   "metadata": {},
   "outputs": [
    {
     "name": "stdout",
     "output_type": "stream",
     "text": [
      "max_pIC50 = 7.823908740944319, min_pIC50 = 4.510885630621081, mean_pIC50 = np.float64(6.5473981997284225)\n"
     ]
    }
   ],
   "source": [
    "max_pIC50 = max(df.pIC50)\n",
    "min_pIC50 = min(df.pIC50)\n",
    "mean_pIC50 = np.mean(df.pIC50)\n",
    "print(f\"{max_pIC50 = }, {min_pIC50 = }, {mean_pIC50 = }\")"
   ]
  },
  {
   "cell_type": "markdown",
   "id": "9d4c6a9c-b10d-40d4-96ce-ff7e08c17156",
   "metadata": {},
   "source": [
    "For visualization it's often helpful to bin the activity into high, medium, and low bins. Here well put compounds with 6 < pIC50 < 7 (0.1-1 \\micro M) into the \"medium\" bin, and compounds with pIC50 > 7 into the \"high\" bin."
   ]
  },
  {
   "cell_type": "code",
   "execution_count": 13,
   "id": "daa29487-b34a-4291-aff9-3915c276b8ab",
   "metadata": {},
   "outputs": [
    {
     "data": {
      "text/plain": [
       "0     med\n",
       "1    high\n",
       "2     low\n",
       "3     low\n",
       "4     low\n",
       "Name: activity, dtype: category\n",
       "Categories (3, object): ['low' < 'med' < 'high']"
      ]
     },
     "execution_count": 13,
     "metadata": {},
     "output_type": "execute_result"
    }
   ],
   "source": [
    "df[\"activity\"] = pd.cut(df.pIC50, bins = [0,6,7,100], labels = [\"low\", \"med\", \"high\"], right = False)\n",
    "df[\"activity\"][0:5]"
   ]
  },
  {
   "cell_type": "code",
   "execution_count": 14,
   "id": "8b203871-1d64-4954-bd2d-64ac56e6141b",
   "metadata": {},
   "outputs": [
    {
     "data": {
      "image/png": "[encoded data removed]",
      "text/plain": [
       "<Figure size 500x500 with 1 Axes>"
      ]
     },
     "metadata": {},
     "output_type": "display_data"
    }
   ],
   "source": [
    "ax = sns.histplot(x = \"pIC50\", hue = \"activity\", data = df, bins = np.arange(4, 9, 0.5))"
   ]
  },
  {
   "cell_type": "markdown",
   "id": "189266fa-7f12-49b1-ad06-95ed202b4c56",
   "metadata": {},
   "source": [
    "Now that we have the IC50 data binned into high, med, low, we can use these categories to make plots showing mulitple parameters. In the cells below we'll make a scatterplot of molecular weight (MW) vs LogP, a measure of lipophilicity. We can then color the plot by activty and see whether acitivity is driven by MW or LogP.\n",
    "\n",
    "To calculate MW and LogP we need to add an RDKit molecule column to the dataframe. As we will see in next couple of cells, the Pandas apply method provides a handy way of performing operations on an entire dataframe column."
   ]
  },
  {
   "cell_type": "code",
   "execution_count": 15,
   "id": "ab16fe83-7234-4dfb-8bec-8f2ce7c4df98",
   "metadata": {},
   "outputs": [],
   "source": [
    "df[\"mol\"] = df.SMILES.apply(Chem.MolFromSmiles)"
   ]
  },
  {
   "cell_type": "code",
   "execution_count": 16,
   "id": "a253cd70-358a-4cfc-a3c2-afa93d047890",
   "metadata": {},
   "outputs": [],
   "source": [
    "from rdkit.Chem import Descriptors\n",
    "\n",
    "df[\"MW\"] = df.mol.apply(Descriptors.MolWt)\n",
    "df[\"LogP\"] = df.mol.apply(Descriptors.MolLogP)"
   ]
  },
  {
   "cell_type": "markdown",
   "id": "970133a4-47c5-4725-9c92-0c3056b3915e",
   "metadata": {},
   "source": [
    "Use seaborn to make the scatterplot of MW vs LogP, colored by activity. Note that while we don't have a clear relationship between either MW or LogP and activity, the smallest molecules tend to have low to medium activity."
   ]
  },
  {
   "cell_type": "code",
   "execution_count": 17,
   "id": "9026747a-567b-4191-b38f-da039fe2bc48",
   "metadata": {},
   "outputs": [
    {
     "data": {
      "image/png": "[encoded data removed]",
      "text/plain": [
       "<Figure size 500x500 with 1 Axes>"
      ]
     },
     "metadata": {},
     "output_type": "display_data"
    }
   ],
   "source": [
    "ax = sns.scatterplot(x = \"MW\", y = \"LogP\", hue = \"activity\", data = df)\n",
    "sns.move_legend(ax, \"upper left\", bbox_to_anchor = (1,1))"
   ]
  },
  {
   "cell_type": "code",
   "execution_count": 18,
   "id": "3c699120-ddcc-4a5c-9c01-5588b65f7ade",
   "metadata": {},
   "outputs": [],
   "source": [
    "from rdkit.Chem import Lipinski\n",
    "\n",
    "df['HBD'] = df[\"mol\"].apply(Lipinski.NHOHCount)\n",
    "df[\"HBA\"] = df[\"mol\"].apply(Lipinski.NOCount)"
   ]
  },
  {
   "cell_type": "code",
   "execution_count": 19,
   "id": "564396fa-6f33-4fa2-89f2-5b940ae77118",
   "metadata": {},
   "outputs": [
    {
     "name": "stdout",
     "output_type": "stream",
     "text": [
      "(75,)\n"
     ]
    },
    {
     "data": {
      "text/plain": [
       "<Axes: xlabel='HBA', ylabel='Count'>"
      ]
     },
     "execution_count": 19,
     "metadata": {},
     "output_type": "execute_result"
    },
    {
     "data": {
      "image/png": "[encoded data removed]",
      "text/plain": [
       "<Figure size 500x500 with 1 Axes>"
      ]
     },
     "metadata": {},
     "output_type": "display_data"
    }
   ],
   "source": [
    "print(df[\"HBA\"].shape)\n",
    "sns.histplot(df[\"HBA\"])\n",
    "sns.histplot(df[\"HBD\"])"
   ]
  },
  {
   "cell_type": "code",
   "execution_count": 20,
   "id": "a51e5d28-41f0-4cba-a42b-0033890dade9",
   "metadata": {},
   "outputs": [
    {
     "data": {
      "image/png": "[encoded data removed]",
      "text/plain": [
       "<Figure size 500x500 with 1 Axes>"
      ]
     },
     "metadata": {},
     "output_type": "display_data"
    }
   ],
   "source": [
    "ax = sns.scatterplot(x = \"HBD\", y = \"HBA\", hue = \"activity\", data = df)\n",
    "sns.move_legend(ax, \"upper left\", bbox_to_anchor = (1,1))"
   ]
  },
  {
   "cell_type": "markdown",
   "id": "35bd99db-64c1-4ca1-8d95-49c4bb3e24c8",
   "metadata": {},
   "source": [
    "## Understanding the Chemistry in the Downloaded Molecules\n",
    "\n",
    "We downloaded 75 molecules from BindingDB. It can often be challenging to understand the trends in sets of molecules. In the next section, we'll look at how Cheminformatics tools can aid or exploratory data analysis. As a first step in this analysis, we will see which parts are common to all 75 of the molecules. To do this, we can use the Maxiumum Common Substructure (MCS) capability in the RDKit. To use this capability, we must first convert the SMILES in our dataframe to RDKit molecule objects. As above, we can use the Pandas apply method to do this."
   ]
  },
  {
   "cell_type": "code",
   "execution_count": 21,
   "id": "6b2d6578-15d3-4b19-8b37-8da7c051caf0",
   "metadata": {},
   "outputs": [],
   "source": [
    "mcs = rdFMCS.FindMCS(df.mol)"
   ]
  },
  {
   "cell_type": "code",
   "execution_count": 24,
   "id": "66a0b219-8bfd-45d5-be6a-84af4c11f05f",
   "metadata": {},
   "outputs": [
    {
     "data": {
      "image/png": "[encoded data removed]",
      "text/plain": [
       "<rdkit.Chem.rdchem.Mol at 0x15ebe61f0>"
      ]
     },
     "execution_count": 24,
     "metadata": {},
     "output_type": "execute_result"
    }
   ],
   "source": [
    "arj = Chem.MolFromSmarts(mcs.smartsString)\n",
    "arj"
   ]
  },
  {
   "cell_type": "markdown",
   "id": "5ec84323-e83f-413b-8ff7-a6bd76235f9c",
   "metadata": {},
   "source": [
    "The visualization above can be difficult to interpret. The MCS tends to make more sense when we map it onto the molecules. Here we can map the MCS on to the first molecule in the dataframe and display it as a red highlight."
   ]
  },
  {
   "cell_type": "code",
   "execution_count": 30,
   "id": "df08fcd7-9eae-422c-a402-ec4d0fd795c4",
   "metadata": {},
   "outputs": [
    {
     "data": {
      "image/png": "[encoded data removed]",
      "text/plain": [
       "<rdkit.Chem.rdchem.Mol at 0x15df7dd20>"
      ]
     },
     "execution_count": 30,
     "metadata": {},
     "output_type": "execute_result"
    }
   ],
   "source": [
    "df.mol.values[0].GetSubstructMatch(arj)\n",
    "df.mol.values[0]"
   ]
  },
  {
   "cell_type": "markdown",
   "id": "d6550d7a-316d-4985-a1c9-cd38b0b89321",
   "metadata": {},
   "source": [
    "Another tool for exploring chemical datasets is the Bemis-Murcko scaffold. In this technique a molecule is reduced to a set of connected rings and linkers. We can use the GetScaffoldForMol method from the RDKit to generate Bemis-Murcko scaffolds."
   ]
  },
  {
   "cell_type": "code",
   "execution_count": 31,
   "id": "73648c3a-38d2-49ba-97a4-f903f9f4d8a2",
   "metadata": {},
   "outputs": [
    {
     "data": {
      "image/png": "[encoded data removed]",
      "text/plain": [
       "<rdkit.Chem.rdchem.Mol at 0x166504a50>"
      ]
     },
     "execution_count": 31,
     "metadata": {},
     "output_type": "execute_result"
    }
   ],
   "source": [
    "df[\"Scaffold\"] = df[\"mol\"].apply(GetScaffoldForMol)\n",
    "df[\"Scaffold\"][0]"
   ]
  },
  {
   "cell_type": "code",
   "execution_count": 32,
   "id": "c5f83bee-eb8b-4485-84f9-2a055cddbe9d",
   "metadata": {},
   "outputs": [
    {
     "data": {
      "text/plain": [
       "'O=C(Cc1nnc2ccccn12)N(Cc1ccccc1)c1ccc(-c2cn[nH]c2)cc1'"
      ]
     },
     "execution_count": 32,
     "metadata": {},
     "output_type": "execute_result"
    }
   ],
   "source": [
    "df[\"Scaffold_SMILES\"] = df[\"Scaffold\"].apply(Chem.MolToSmiles)\n",
    "df[\"Scaffold_SMILES\"][0]"
   ]
  },
  {
   "cell_type": "code",
   "execution_count": 47,
   "id": "3d0d7c2b-f7e7-4412-b86f-2931f741a463",
   "metadata": {},
   "outputs": [
    {
     "name": "stdout",
     "output_type": "stream",
     "text": [
      "Scaffold_SMILES\n",
      "O=C(Cc1cncc2ccccc12)N(Cc1ccccc1)c1ccc(-c2c[nH]cn2)cc1    16\n",
      "O=C(Cc1cccnc1)N(Cc1ccccc1)c1ccc(-c2c[nH]cn2)cc1          10\n",
      "O=C(Cc1nnc2ccccn12)N(Cc1ccccc1)c1ccc(-c2c[nH]cn2)cc1      7\n",
      "O=C(Cc1cncc2ccccc12)N(Cc1ccccc1)c1ccc(C2=CCNC2)cc1        3\n",
      "O=C(Cc1cncc2ccccc12)N(Cc1ccccc1)c1ccccc1                  3\n",
      "Name: count, dtype: int64\n"
     ]
    },
    {
     "data": {
      "text/plain": [
       "(34,)"
      ]
     },
     "execution_count": 47,
     "metadata": {},
     "output_type": "execute_result"
    }
   ],
   "source": [
    "scaffold_counts_df = df[\"Scaffold_SMILES\"].value_counts()\n",
    "print(scaffold_counts_df.head())\n",
    "scaffold_counts_df.shape"
   ]
  }
 ],
 "metadata": {
  "kernelspec": {
   "display_name": "Python 3 (ipykernel)",
   "language": "python",
   "name": "python3"
  },
  "language_info": {
   "codemirror_mode": {
    "name": "ipython",
    "version": 3
   },
   "file_extension": ".py",
   "mimetype": "text/x-python",
   "name": "python",
   "nbconvert_exporter": "python",
   "pygments_lexer": "ipython3",
   "version": "3.10.17"
  }
 },
 "nbformat": 4,
 "nbformat_minor": 5
}
